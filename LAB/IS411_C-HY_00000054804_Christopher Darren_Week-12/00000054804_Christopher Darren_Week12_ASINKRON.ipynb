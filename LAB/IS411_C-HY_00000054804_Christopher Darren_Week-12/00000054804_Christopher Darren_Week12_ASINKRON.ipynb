{
 "cells": [
  {
   "cell_type": "markdown",
   "metadata": {},
   "source": [
    "# K-Prototype and K-Modes"
   ]
  },
  {
   "cell_type": "markdown",
   "metadata": {},
   "source": [
    "## K-Prototype"
   ]
  },
  {
   "cell_type": "markdown",
   "metadata": {},
   "source": [
    "##### Import Library"
   ]
  },
  {
   "cell_type": "markdown",
   "metadata": {},
   "source": [
    "##### 1. Lakukan langkah yang sama seperti minggu sebelumnya untuk meng-import library Numpy dan Pandas, numpy, plotnine, module for k-protoype cluster."
   ]
  },
  {
   "cell_type": "code",
   "execution_count": 1,
   "metadata": {},
   "outputs": [
    {
     "name": "stderr",
     "output_type": "stream",
     "text": [
      "C:\\Users\\Darren\\anaconda3\\lib\\site-packages\\scipy\\__init__.py:146: UserWarning: A NumPy version >=1.16.5 and <1.23.0 is required for this version of SciPy (detected version 1.24.3\n"
     ]
    }
   ],
   "source": [
    "# Import module for data manipulation\n",
    "import pandas as pd\n",
    "\n",
    "# Import module for linear algebra\n",
    "import numpy as np\n",
    "\n",
    "import re\n",
    "\n",
    "# Import module for data visualization\n",
    "from plotnine import *\n",
    "import plotnine\n",
    "\n",
    "# Import module for k-prototype cluster\n",
    "from kmodes.kprototypes import KPrototypes\n",
    "\n",
    "#Import matplotlib\n",
    "from matplotlib.figure import Figure\n",
    "import matplotlib.pyplot as plt\n",
    "\n",
    "#Ignore warnings\n",
    "import warnings\n",
    "warnings.filterwarnings('ignore', category= FutureWarning)"
   ]
  },
  {
   "cell_type": "code",
   "execution_count": 2,
   "metadata": {},
   "outputs": [],
   "source": [
    "# Format scientific notation from Pandas\n",
    "pd.set_option('display.float_format', lambda x: '%.3f' % x)"
   ]
  },
  {
   "cell_type": "markdown",
   "metadata": {},
   "source": [
    "##### Import Data"
   ]
  },
  {
   "cell_type": "markdown",
   "metadata": {},
   "source": [
    "#### 2.Gunakan dataset 10000 Sales Records.csv'dan masukkan ke dalam dataframe menggunakan Pandas. Berikan nama df (Petunjuk: gunakan delimiter=; )."
   ]
  },
  {
   "cell_type": "markdown",
   "metadata": {},
   "source": [
    "#### 3.Tampilkan informasi dataset dan isi data."
   ]
  },
  {
   "cell_type": "code",
   "execution_count": 3,
   "metadata": {},
   "outputs": [],
   "source": [
    "df = pd.read_csv(r'D:\\SEMESTER 4\\IS411 Data Modelling\\LAB\\IS411_C-HY_00000054804_Christopher Darren_Week-12\\10000 Sales Records.csv', delimiter=',')"
   ]
  },
  {
   "cell_type": "code",
   "execution_count": 4,
   "metadata": {},
   "outputs": [
    {
     "name": "stdout",
     "output_type": "stream",
     "text": [
      "Dimension data: 10000 rows and 14 columns\n"
     ]
    },
    {
     "data": {
      "text/html": [
       "<div>\n",
       "<style scoped>\n",
       "    .dataframe tbody tr th:only-of-type {\n",
       "        vertical-align: middle;\n",
       "    }\n",
       "\n",
       "    .dataframe tbody tr th {\n",
       "        vertical-align: top;\n",
       "    }\n",
       "\n",
       "    .dataframe thead th {\n",
       "        text-align: right;\n",
       "    }\n",
       "</style>\n",
       "<table border=\"1\" class=\"dataframe\">\n",
       "  <thead>\n",
       "    <tr style=\"text-align: right;\">\n",
       "      <th></th>\n",
       "      <th>Region</th>\n",
       "      <th>Country</th>\n",
       "      <th>Item Type</th>\n",
       "      <th>Sales Channel</th>\n",
       "      <th>Order Priority</th>\n",
       "      <th>Order Date</th>\n",
       "      <th>Order ID</th>\n",
       "      <th>Ship Date</th>\n",
       "      <th>Units Sold</th>\n",
       "      <th>Unit Price</th>\n",
       "      <th>Unit Cost</th>\n",
       "      <th>Total Revenue</th>\n",
       "      <th>Total Cost</th>\n",
       "      <th>Total Profit</th>\n",
       "    </tr>\n",
       "  </thead>\n",
       "  <tbody>\n",
       "    <tr>\n",
       "      <th>0</th>\n",
       "      <td>Sub-Saharan Africa</td>\n",
       "      <td>Chad</td>\n",
       "      <td>Office Supplies</td>\n",
       "      <td>Online</td>\n",
       "      <td>L</td>\n",
       "      <td>1/27/2011</td>\n",
       "      <td>292494523</td>\n",
       "      <td>2/12/2011</td>\n",
       "      <td>4484</td>\n",
       "      <td>651.210</td>\n",
       "      <td>524.960</td>\n",
       "      <td>2920025.640</td>\n",
       "      <td>2353920.640</td>\n",
       "      <td>566105.000</td>\n",
       "    </tr>\n",
       "    <tr>\n",
       "      <th>1</th>\n",
       "      <td>Europe</td>\n",
       "      <td>Latvia</td>\n",
       "      <td>Beverages</td>\n",
       "      <td>Online</td>\n",
       "      <td>C</td>\n",
       "      <td>12/28/2015</td>\n",
       "      <td>361825549</td>\n",
       "      <td>1/23/2016</td>\n",
       "      <td>1075</td>\n",
       "      <td>47.450</td>\n",
       "      <td>31.790</td>\n",
       "      <td>51008.750</td>\n",
       "      <td>34174.250</td>\n",
       "      <td>16834.500</td>\n",
       "    </tr>\n",
       "    <tr>\n",
       "      <th>2</th>\n",
       "      <td>Middle East and North Africa</td>\n",
       "      <td>Pakistan</td>\n",
       "      <td>Vegetables</td>\n",
       "      <td>Offline</td>\n",
       "      <td>C</td>\n",
       "      <td>1/13/2011</td>\n",
       "      <td>141515767</td>\n",
       "      <td>2/1/2011</td>\n",
       "      <td>6515</td>\n",
       "      <td>154.060</td>\n",
       "      <td>90.930</td>\n",
       "      <td>1003700.900</td>\n",
       "      <td>592408.950</td>\n",
       "      <td>411291.950</td>\n",
       "    </tr>\n",
       "    <tr>\n",
       "      <th>3</th>\n",
       "      <td>Sub-Saharan Africa</td>\n",
       "      <td>Democratic Republic of the Congo</td>\n",
       "      <td>Household</td>\n",
       "      <td>Online</td>\n",
       "      <td>C</td>\n",
       "      <td>9/11/2012</td>\n",
       "      <td>500364005</td>\n",
       "      <td>10/6/2012</td>\n",
       "      <td>7683</td>\n",
       "      <td>668.270</td>\n",
       "      <td>502.540</td>\n",
       "      <td>5134318.410</td>\n",
       "      <td>3861014.820</td>\n",
       "      <td>1273303.590</td>\n",
       "    </tr>\n",
       "    <tr>\n",
       "      <th>4</th>\n",
       "      <td>Europe</td>\n",
       "      <td>Czech Republic</td>\n",
       "      <td>Beverages</td>\n",
       "      <td>Online</td>\n",
       "      <td>C</td>\n",
       "      <td>10/27/2015</td>\n",
       "      <td>127481591</td>\n",
       "      <td>12/5/2015</td>\n",
       "      <td>3491</td>\n",
       "      <td>47.450</td>\n",
       "      <td>31.790</td>\n",
       "      <td>165647.950</td>\n",
       "      <td>110978.890</td>\n",
       "      <td>54669.060</td>\n",
       "    </tr>\n",
       "  </tbody>\n",
       "</table>\n",
       "</div>"
      ],
      "text/plain": [
       "                         Region                           Country  \\\n",
       "0            Sub-Saharan Africa                              Chad   \n",
       "1                        Europe                            Latvia   \n",
       "2  Middle East and North Africa                          Pakistan   \n",
       "3            Sub-Saharan Africa  Democratic Republic of the Congo   \n",
       "4                        Europe                    Czech Republic   \n",
       "\n",
       "         Item Type Sales Channel Order Priority  Order Date   Order ID  \\\n",
       "0  Office Supplies        Online              L   1/27/2011  292494523   \n",
       "1        Beverages        Online              C  12/28/2015  361825549   \n",
       "2       Vegetables       Offline              C   1/13/2011  141515767   \n",
       "3        Household        Online              C   9/11/2012  500364005   \n",
       "4        Beverages        Online              C  10/27/2015  127481591   \n",
       "\n",
       "   Ship Date  Units Sold  Unit Price  Unit Cost  Total Revenue  Total Cost  \\\n",
       "0  2/12/2011        4484     651.210    524.960    2920025.640 2353920.640   \n",
       "1  1/23/2016        1075      47.450     31.790      51008.750   34174.250   \n",
       "2   2/1/2011        6515     154.060     90.930    1003700.900  592408.950   \n",
       "3  10/6/2012        7683     668.270    502.540    5134318.410 3861014.820   \n",
       "4  12/5/2015        3491      47.450     31.790     165647.950  110978.890   \n",
       "\n",
       "   Total Profit  \n",
       "0    566105.000  \n",
       "1     16834.500  \n",
       "2    411291.950  \n",
       "3   1273303.590  \n",
       "4     54669.060  "
      ]
     },
     "execution_count": 4,
     "metadata": {},
     "output_type": "execute_result"
    }
   ],
   "source": [
    "print('Dimension data: {} rows and {} columns'.format(len(df), len(df.columns)))\n",
    "df.head()"
   ]
  },
  {
   "cell_type": "markdown",
   "metadata": {},
   "source": [
    "#### 4. Inspect the data type"
   ]
  },
  {
   "cell_type": "code",
   "execution_count": 5,
   "metadata": {},
   "outputs": [
    {
     "name": "stdout",
     "output_type": "stream",
     "text": [
      "<class 'pandas.core.frame.DataFrame'>\n",
      "RangeIndex: 10000 entries, 0 to 9999\n",
      "Data columns (total 14 columns):\n",
      " #   Column          Non-Null Count  Dtype  \n",
      "---  ------          --------------  -----  \n",
      " 0   Region          10000 non-null  object \n",
      " 1   Country         10000 non-null  object \n",
      " 2   Item Type       10000 non-null  object \n",
      " 3   Sales Channel   10000 non-null  object \n",
      " 4   Order Priority  10000 non-null  object \n",
      " 5   Order Date      10000 non-null  object \n",
      " 6   Order ID        10000 non-null  int64  \n",
      " 7   Ship Date       10000 non-null  object \n",
      " 8   Units Sold      10000 non-null  int64  \n",
      " 9   Unit Price      10000 non-null  float64\n",
      " 10  Unit Cost       10000 non-null  float64\n",
      " 11  Total Revenue   10000 non-null  float64\n",
      " 12  Total Cost      10000 non-null  float64\n",
      " 13  Total Profit    10000 non-null  float64\n",
      "dtypes: float64(5), int64(2), object(7)\n",
      "memory usage: 1.1+ MB\n"
     ]
    }
   ],
   "source": [
    "df.info()"
   ]
  },
  {
   "cell_type": "markdown",
   "metadata": {},
   "source": [
    "#### 5. Inspect the categorical variables"
   ]
  },
  {
   "cell_type": "code",
   "execution_count": 6,
   "metadata": {},
   "outputs": [
    {
     "data": {
      "text/plain": [
       "Region               7\n",
       "Country            185\n",
       "Item Type           12\n",
       "Sales Channel        2\n",
       "Order Priority       4\n",
       "Order Date        2691\n",
       "Ship Date         2719\n",
       "dtype: int64"
      ]
     },
     "execution_count": 6,
     "metadata": {},
     "output_type": "execute_result"
    }
   ],
   "source": [
    "df.select_dtypes('object').nunique()"
   ]
  },
  {
   "cell_type": "markdown",
   "metadata": {},
   "source": [
    "#### 6. Inspect the numerical variables."
   ]
  },
  {
   "cell_type": "code",
   "execution_count": 7,
   "metadata": {},
   "outputs": [
    {
     "data": {
      "text/html": [
       "<div>\n",
       "<style scoped>\n",
       "    .dataframe tbody tr th:only-of-type {\n",
       "        vertical-align: middle;\n",
       "    }\n",
       "\n",
       "    .dataframe tbody tr th {\n",
       "        vertical-align: top;\n",
       "    }\n",
       "\n",
       "    .dataframe thead th {\n",
       "        text-align: right;\n",
       "    }\n",
       "</style>\n",
       "<table border=\"1\" class=\"dataframe\">\n",
       "  <thead>\n",
       "    <tr style=\"text-align: right;\">\n",
       "      <th></th>\n",
       "      <th>Order ID</th>\n",
       "      <th>Units Sold</th>\n",
       "      <th>Unit Price</th>\n",
       "      <th>Unit Cost</th>\n",
       "      <th>Total Revenue</th>\n",
       "      <th>Total Cost</th>\n",
       "      <th>Total Profit</th>\n",
       "    </tr>\n",
       "  </thead>\n",
       "  <tbody>\n",
       "    <tr>\n",
       "      <th>count</th>\n",
       "      <td>10000.000</td>\n",
       "      <td>10000.000</td>\n",
       "      <td>10000.000</td>\n",
       "      <td>10000.000</td>\n",
       "      <td>10000.000</td>\n",
       "      <td>10000.000</td>\n",
       "      <td>10000.000</td>\n",
       "    </tr>\n",
       "    <tr>\n",
       "      <th>mean</th>\n",
       "      <td>549871874.366</td>\n",
       "      <td>5002.856</td>\n",
       "      <td>268.143</td>\n",
       "      <td>188.807</td>\n",
       "      <td>1333355.131</td>\n",
       "      <td>938265.784</td>\n",
       "      <td>395089.347</td>\n",
       "    </tr>\n",
       "    <tr>\n",
       "      <th>std</th>\n",
       "      <td>260783511.133</td>\n",
       "      <td>2873.246</td>\n",
       "      <td>217.944</td>\n",
       "      <td>176.446</td>\n",
       "      <td>1465026.174</td>\n",
       "      <td>1145914.069</td>\n",
       "      <td>377554.961</td>\n",
       "    </tr>\n",
       "    <tr>\n",
       "      <th>min</th>\n",
       "      <td>100089156.000</td>\n",
       "      <td>2.000</td>\n",
       "      <td>9.330</td>\n",
       "      <td>6.920</td>\n",
       "      <td>167.940</td>\n",
       "      <td>124.560</td>\n",
       "      <td>43.380</td>\n",
       "    </tr>\n",
       "    <tr>\n",
       "      <th>25%</th>\n",
       "      <td>321806669.000</td>\n",
       "      <td>2530.750</td>\n",
       "      <td>109.280</td>\n",
       "      <td>56.670</td>\n",
       "      <td>288551.078</td>\n",
       "      <td>164785.530</td>\n",
       "      <td>98329.140</td>\n",
       "    </tr>\n",
       "    <tr>\n",
       "      <th>50%</th>\n",
       "      <td>548566305.000</td>\n",
       "      <td>4962.000</td>\n",
       "      <td>205.700</td>\n",
       "      <td>117.110</td>\n",
       "      <td>800051.210</td>\n",
       "      <td>481605.840</td>\n",
       "      <td>289099.020</td>\n",
       "    </tr>\n",
       "    <tr>\n",
       "      <th>75%</th>\n",
       "      <td>775998103.500</td>\n",
       "      <td>7472.000</td>\n",
       "      <td>437.200</td>\n",
       "      <td>364.690</td>\n",
       "      <td>1819143.390</td>\n",
       "      <td>1183821.520</td>\n",
       "      <td>566422.708</td>\n",
       "    </tr>\n",
       "    <tr>\n",
       "      <th>max</th>\n",
       "      <td>999934232.000</td>\n",
       "      <td>10000.000</td>\n",
       "      <td>668.270</td>\n",
       "      <td>524.960</td>\n",
       "      <td>6680026.920</td>\n",
       "      <td>5241725.600</td>\n",
       "      <td>1738178.390</td>\n",
       "    </tr>\n",
       "  </tbody>\n",
       "</table>\n",
       "</div>"
      ],
      "text/plain": [
       "           Order ID  Units Sold  Unit Price  Unit Cost  Total Revenue  \\\n",
       "count     10000.000   10000.000   10000.000  10000.000      10000.000   \n",
       "mean  549871874.366    5002.856     268.143    188.807    1333355.131   \n",
       "std   260783511.133    2873.246     217.944    176.446    1465026.174   \n",
       "min   100089156.000       2.000       9.330      6.920        167.940   \n",
       "25%   321806669.000    2530.750     109.280     56.670     288551.078   \n",
       "50%   548566305.000    4962.000     205.700    117.110     800051.210   \n",
       "75%   775998103.500    7472.000     437.200    364.690    1819143.390   \n",
       "max   999934232.000   10000.000     668.270    524.960    6680026.920   \n",
       "\n",
       "       Total Cost  Total Profit  \n",
       "count   10000.000     10000.000  \n",
       "mean   938265.784    395089.347  \n",
       "std   1145914.069    377554.961  \n",
       "min       124.560        43.380  \n",
       "25%    164785.530     98329.140  \n",
       "50%    481605.840    289099.020  \n",
       "75%   1183821.520    566422.708  \n",
       "max   5241725.600   1738178.390  "
      ]
     },
     "execution_count": 7,
     "metadata": {},
     "output_type": "execute_result"
    }
   ],
   "source": [
    "df.describe()"
   ]
  },
  {
   "cell_type": "markdown",
   "metadata": {},
   "source": [
    "#### 7. Check missing value."
   ]
  },
  {
   "cell_type": "code",
   "execution_count": 8,
   "metadata": {},
   "outputs": [
    {
     "data": {
      "text/plain": [
       "Region            0\n",
       "Country           0\n",
       "Item Type         0\n",
       "Sales Channel     0\n",
       "Order Priority    0\n",
       "Order Date        0\n",
       "Order ID          0\n",
       "Ship Date         0\n",
       "Units Sold        0\n",
       "Unit Price        0\n",
       "Unit Cost         0\n",
       "Total Revenue     0\n",
       "Total Cost        0\n",
       "Total Profit      0\n",
       "dtype: int64"
      ]
     },
     "execution_count": 8,
     "metadata": {},
     "output_type": "execute_result"
    }
   ],
   "source": [
    "df.isna().sum()"
   ]
  },
  {
   "cell_type": "markdown",
   "metadata": {},
   "source": [
    "### Explanatory Data Analysis"
   ]
  },
  {
   "cell_type": "markdown",
   "metadata": {},
   "source": [
    "#### 8. Distribution of region"
   ]
  },
  {
   "cell_type": "code",
   "execution_count": 9,
   "metadata": {},
   "outputs": [
    {
     "data": {
      "text/html": [
       "<div>\n",
       "<style scoped>\n",
       "    .dataframe tbody tr th:only-of-type {\n",
       "        vertical-align: middle;\n",
       "    }\n",
       "\n",
       "    .dataframe tbody tr th {\n",
       "        vertical-align: top;\n",
       "    }\n",
       "\n",
       "    .dataframe thead th {\n",
       "        text-align: right;\n",
       "    }\n",
       "</style>\n",
       "<table border=\"1\" class=\"dataframe\">\n",
       "  <thead>\n",
       "    <tr style=\"text-align: right;\">\n",
       "      <th></th>\n",
       "      <th>Region</th>\n",
       "      <th>Total</th>\n",
       "      <th>Percentage</th>\n",
       "    </tr>\n",
       "  </thead>\n",
       "  <tbody>\n",
       "    <tr>\n",
       "      <th>0</th>\n",
       "      <td>North America</td>\n",
       "      <td>215</td>\n",
       "      <td>0.021</td>\n",
       "    </tr>\n",
       "    <tr>\n",
       "      <th>1</th>\n",
       "      <td>Australia and Oceania</td>\n",
       "      <td>797</td>\n",
       "      <td>0.080</td>\n",
       "    </tr>\n",
       "    <tr>\n",
       "      <th>2</th>\n",
       "      <td>Central America and the Caribbean</td>\n",
       "      <td>1019</td>\n",
       "      <td>0.102</td>\n",
       "    </tr>\n",
       "    <tr>\n",
       "      <th>3</th>\n",
       "      <td>Middle East and North Africa</td>\n",
       "      <td>1264</td>\n",
       "      <td>0.126</td>\n",
       "    </tr>\n",
       "    <tr>\n",
       "      <th>4</th>\n",
       "      <td>Asia</td>\n",
       "      <td>1469</td>\n",
       "      <td>0.147</td>\n",
       "    </tr>\n",
       "    <tr>\n",
       "      <th>5</th>\n",
       "      <td>Sub-Saharan Africa</td>\n",
       "      <td>2603</td>\n",
       "      <td>0.260</td>\n",
       "    </tr>\n",
       "    <tr>\n",
       "      <th>6</th>\n",
       "      <td>Europe</td>\n",
       "      <td>2633</td>\n",
       "      <td>0.263</td>\n",
       "    </tr>\n",
       "  </tbody>\n",
       "</table>\n",
       "</div>"
      ],
      "text/plain": [
       "                              Region  Total  Percentage\n",
       "0                      North America    215       0.021\n",
       "1              Australia and Oceania    797       0.080\n",
       "2  Central America and the Caribbean   1019       0.102\n",
       "3       Middle East and North Africa   1264       0.126\n",
       "4                               Asia   1469       0.147\n",
       "5                 Sub-Saharan Africa   2603       0.260\n",
       "6                             Europe   2633       0.263"
      ]
     },
     "execution_count": 9,
     "metadata": {},
     "output_type": "execute_result"
    }
   ],
   "source": [
    "df_region = pd.DataFrame(df['Region'].value_counts()).reset_index()\n",
    "df_region['Percentage'] = df_region['Region'] / df['Region'].value_counts().sum()\n",
    "df_region.rename(columns= {'index':'Region','Region':'Total'}, inplace=True)\n",
    "df_region = df_region.sort_values('Total', ascending= True).reset_index(drop= True)\n",
    "df_region"
   ]
  },
  {
   "cell_type": "code",
   "execution_count": 10,
   "metadata": {},
   "outputs": [],
   "source": [
    "# The DataFrame\n",
    "df_region = df.groupby('Region').agg({\n",
    "    'Region': 'count',\n",
    "    'Units Sold': 'mean',\n",
    "    'Total Revenue' : 'mean',\n",
    "    'Total Cost' : 'mean',\n",
    "    'Total Profit' : 'mean'\n",
    "}\n",
    ").rename(columns= {'Region' : 'Total'}).reset_index().sort_values('Total', ascending = True)"
   ]
  },
  {
   "cell_type": "code",
   "execution_count": 11,
   "metadata": {},
   "outputs": [
    {
     "data": {
      "text/html": [
       "<div>\n",
       "<style scoped>\n",
       "    .dataframe tbody tr th:only-of-type {\n",
       "        vertical-align: middle;\n",
       "    }\n",
       "\n",
       "    .dataframe tbody tr th {\n",
       "        vertical-align: top;\n",
       "    }\n",
       "\n",
       "    .dataframe thead th {\n",
       "        text-align: right;\n",
       "    }\n",
       "</style>\n",
       "<table border=\"1\" class=\"dataframe\">\n",
       "  <thead>\n",
       "    <tr style=\"text-align: right;\">\n",
       "      <th></th>\n",
       "      <th>Region</th>\n",
       "      <th>Total</th>\n",
       "      <th>Units Sold</th>\n",
       "      <th>Total Revenue</th>\n",
       "      <th>Total Cost</th>\n",
       "      <th>Total Profit</th>\n",
       "    </tr>\n",
       "  </thead>\n",
       "  <tbody>\n",
       "    <tr>\n",
       "      <th>5</th>\n",
       "      <td>North America</td>\n",
       "      <td>215</td>\n",
       "      <td>5373.358</td>\n",
       "      <td>1559778.805</td>\n",
       "      <td>1097008.967</td>\n",
       "      <td>462769.838</td>\n",
       "    </tr>\n",
       "    <tr>\n",
       "      <th>1</th>\n",
       "      <td>Australia and Oceania</td>\n",
       "      <td>797</td>\n",
       "      <td>4986.769</td>\n",
       "      <td>1317192.267</td>\n",
       "      <td>910578.451</td>\n",
       "      <td>406613.816</td>\n",
       "    </tr>\n",
       "    <tr>\n",
       "      <th>2</th>\n",
       "      <td>Central America and the Caribbean</td>\n",
       "      <td>1019</td>\n",
       "      <td>5081.063</td>\n",
       "      <td>1369509.041</td>\n",
       "      <td>973672.093</td>\n",
       "      <td>395836.948</td>\n",
       "    </tr>\n",
       "    <tr>\n",
       "      <th>4</th>\n",
       "      <td>Middle East and North Africa</td>\n",
       "      <td>1264</td>\n",
       "      <td>5116.219</td>\n",
       "      <td>1357304.982</td>\n",
       "      <td>953884.180</td>\n",
       "      <td>403420.803</td>\n",
       "    </tr>\n",
       "    <tr>\n",
       "      <th>0</th>\n",
       "      <td>Asia</td>\n",
       "      <td>1469</td>\n",
       "      <td>5015.488</td>\n",
       "      <td>1365082.080</td>\n",
       "      <td>965215.983</td>\n",
       "      <td>399866.097</td>\n",
       "    </tr>\n",
       "    <tr>\n",
       "      <th>6</th>\n",
       "      <td>Sub-Saharan Africa</td>\n",
       "      <td>2603</td>\n",
       "      <td>4967.808</td>\n",
       "      <td>1287190.079</td>\n",
       "      <td>903155.468</td>\n",
       "      <td>384034.611</td>\n",
       "    </tr>\n",
       "    <tr>\n",
       "      <th>3</th>\n",
       "      <td>Europe</td>\n",
       "      <td>2633</td>\n",
       "      <td>4920.385</td>\n",
       "      <td>1322207.396</td>\n",
       "      <td>932158.169</td>\n",
       "      <td>390049.226</td>\n",
       "    </tr>\n",
       "  </tbody>\n",
       "</table>\n",
       "</div>"
      ],
      "text/plain": [
       "                              Region  Total  Units Sold  Total Revenue  \\\n",
       "5                      North America    215    5373.358    1559778.805   \n",
       "1              Australia and Oceania    797    4986.769    1317192.267   \n",
       "2  Central America and the Caribbean   1019    5081.063    1369509.041   \n",
       "4       Middle East and North Africa   1264    5116.219    1357304.982   \n",
       "0                               Asia   1469    5015.488    1365082.080   \n",
       "6                 Sub-Saharan Africa   2603    4967.808    1287190.079   \n",
       "3                             Europe   2633    4920.385    1322207.396   \n",
       "\n",
       "   Total Cost  Total Profit  \n",
       "5 1097008.967    462769.838  \n",
       "1  910578.451    406613.816  \n",
       "2  973672.093    395836.948  \n",
       "4  953884.180    403420.803  \n",
       "0  965215.983    399866.097  \n",
       "6  903155.468    384034.611  \n",
       "3  932158.169    390049.226  "
      ]
     },
     "execution_count": 11,
     "metadata": {},
     "output_type": "execute_result"
    }
   ],
   "source": [
    "df_region"
   ]
  },
  {
   "cell_type": "markdown",
   "metadata": {},
   "source": [
    "#### 9. Data Visualization"
   ]
  },
  {
   "cell_type": "code",
   "execution_count": 12,
   "metadata": {},
   "outputs": [
    {
     "data": {
      "image/png": "[encoded data removed]",
      "text/plain": [
       "<Figure size 576x345.6 with 1 Axes>"
      ]
     },
     "metadata": {
      "image/png": {
       "height": 345,
       "width": 576
      },
      "needs_background": "light"
     },
     "output_type": "display_data"
    },
    {
     "data": {
      "text/plain": [
       "<Figure Size: (576 x 345)>"
      ]
     },
     "execution_count": 12,
     "metadata": {},
     "output_type": "execute_result"
    }
   ],
   "source": [
    "plotnine.options.figure_size = (8, 4.8)\n",
    "(\n",
    "    ggplot(data= df_region)+\n",
    "    geom_bar(aes(x = 'Region',\n",
    "                y = 'Total'), fill = np.where(df_region['Region'] == 'Asia' ,'#981220','#80797c'),\n",
    "                stat = 'identity')+\n",
    "                geom_text(aes(x ='Region',\n",
    "                            y = 'Total',\n",
    "                            label = 'Total'),\n",
    "                            size = 10,\n",
    "                            nudge_y = 120)+\n",
    "                        labs(title='Region that has the highest purchases')+\n",
    "                        xlab('Region')+\n",
    "                        ylab('Frequency')+\n",
    "                        scale_x_discrete(limits = df_region['Region'].tolist())+\n",
    "                        theme_minimal()+\n",
    "                        coord_flip()\n",
    ")"
   ]
  },
  {
   "cell_type": "markdown",
   "metadata": {},
   "source": [
    "#### 10. Distribution of item type"
   ]
  },
  {
   "cell_type": "code",
   "execution_count": 13,
   "metadata": {},
   "outputs": [
    {
     "data": {
      "text/plain": [
       "['North America',\n",
       " 'Australia and Oceania',\n",
       " 'Central America and the Caribbean',\n",
       " 'Middle East and North Africa',\n",
       " 'Asia',\n",
       " 'Sub-Saharan Africa',\n",
       " 'Europe',\n",
       " 'All']"
      ]
     },
     "execution_count": 13,
     "metadata": {},
     "output_type": "execute_result"
    }
   ],
   "source": [
    "# Order the index of cross tabulation\n",
    "order_region = df_region['Region'].to_list()\n",
    "order_region.append('All')\n",
    "order_region"
   ]
  },
  {
   "cell_type": "code",
   "execution_count": 14,
   "metadata": {},
   "outputs": [
    {
     "data": {
      "text/html": [
       "<div>\n",
       "<style scoped>\n",
       "    .dataframe tbody tr th:only-of-type {\n",
       "        vertical-align: middle;\n",
       "    }\n",
       "\n",
       "    .dataframe tbody tr th {\n",
       "        vertical-align: top;\n",
       "    }\n",
       "\n",
       "    .dataframe thead th {\n",
       "        text-align: right;\n",
       "    }\n",
       "</style>\n",
       "<table border=\"1\" class=\"dataframe\">\n",
       "  <thead>\n",
       "    <tr style=\"text-align: right;\">\n",
       "      <th></th>\n",
       "      <th>Region</th>\n",
       "      <th>Baby Food</th>\n",
       "      <th>Beverages</th>\n",
       "      <th>Cereal</th>\n",
       "      <th>Clothes</th>\n",
       "      <th>Cosmetics</th>\n",
       "      <th>Fruits</th>\n",
       "      <th>Household</th>\n",
       "      <th>Meat</th>\n",
       "      <th>Office Supplies</th>\n",
       "      <th>Personal Care</th>\n",
       "      <th>Snacks</th>\n",
       "      <th>Vegetables</th>\n",
       "      <th>All</th>\n",
       "    </tr>\n",
       "  </thead>\n",
       "  <tbody>\n",
       "    <tr>\n",
       "      <th>0</th>\n",
       "      <td>North America</td>\n",
       "      <td>21</td>\n",
       "      <td>20</td>\n",
       "      <td>16</td>\n",
       "      <td>21</td>\n",
       "      <td>20</td>\n",
       "      <td>15</td>\n",
       "      <td>20</td>\n",
       "      <td>17</td>\n",
       "      <td>20</td>\n",
       "      <td>17</td>\n",
       "      <td>16</td>\n",
       "      <td>12</td>\n",
       "      <td>215</td>\n",
       "    </tr>\n",
       "    <tr>\n",
       "      <th>1</th>\n",
       "      <td>Australia and Oceania</td>\n",
       "      <td>65</td>\n",
       "      <td>50</td>\n",
       "      <td>69</td>\n",
       "      <td>77</td>\n",
       "      <td>75</td>\n",
       "      <td>55</td>\n",
       "      <td>78</td>\n",
       "      <td>61</td>\n",
       "      <td>50</td>\n",
       "      <td>76</td>\n",
       "      <td>72</td>\n",
       "      <td>69</td>\n",
       "      <td>797</td>\n",
       "    </tr>\n",
       "    <tr>\n",
       "      <th>2</th>\n",
       "      <td>Central America and the Caribbean</td>\n",
       "      <td>74</td>\n",
       "      <td>92</td>\n",
       "      <td>77</td>\n",
       "      <td>84</td>\n",
       "      <td>77</td>\n",
       "      <td>81</td>\n",
       "      <td>104</td>\n",
       "      <td>75</td>\n",
       "      <td>94</td>\n",
       "      <td>82</td>\n",
       "      <td>89</td>\n",
       "      <td>90</td>\n",
       "      <td>1019</td>\n",
       "    </tr>\n",
       "    <tr>\n",
       "      <th>3</th>\n",
       "      <td>Middle East and North Africa</td>\n",
       "      <td>105</td>\n",
       "      <td>96</td>\n",
       "      <td>104</td>\n",
       "      <td>111</td>\n",
       "      <td>99</td>\n",
       "      <td>104</td>\n",
       "      <td>128</td>\n",
       "      <td>101</td>\n",
       "      <td>103</td>\n",
       "      <td>112</td>\n",
       "      <td>95</td>\n",
       "      <td>106</td>\n",
       "      <td>1264</td>\n",
       "    </tr>\n",
       "    <tr>\n",
       "      <th>4</th>\n",
       "      <td>Asia</td>\n",
       "      <td>132</td>\n",
       "      <td>108</td>\n",
       "      <td>121</td>\n",
       "      <td>116</td>\n",
       "      <td>125</td>\n",
       "      <td>111</td>\n",
       "      <td>116</td>\n",
       "      <td>114</td>\n",
       "      <td>132</td>\n",
       "      <td>137</td>\n",
       "      <td>120</td>\n",
       "      <td>137</td>\n",
       "      <td>1469</td>\n",
       "    </tr>\n",
       "    <tr>\n",
       "      <th>5</th>\n",
       "      <td>Sub-Saharan Africa</td>\n",
       "      <td>235</td>\n",
       "      <td>220</td>\n",
       "      <td>211</td>\n",
       "      <td>229</td>\n",
       "      <td>203</td>\n",
       "      <td>230</td>\n",
       "      <td>218</td>\n",
       "      <td>207</td>\n",
       "      <td>207</td>\n",
       "      <td>223</td>\n",
       "      <td>221</td>\n",
       "      <td>199</td>\n",
       "      <td>2603</td>\n",
       "    </tr>\n",
       "    <tr>\n",
       "      <th>6</th>\n",
       "      <td>Europe</td>\n",
       "      <td>210</td>\n",
       "      <td>196</td>\n",
       "      <td>227</td>\n",
       "      <td>234</td>\n",
       "      <td>235</td>\n",
       "      <td>199</td>\n",
       "      <td>211</td>\n",
       "      <td>223</td>\n",
       "      <td>231</td>\n",
       "      <td>241</td>\n",
       "      <td>203</td>\n",
       "      <td>223</td>\n",
       "      <td>2633</td>\n",
       "    </tr>\n",
       "    <tr>\n",
       "      <th>7</th>\n",
       "      <td>All</td>\n",
       "      <td>842</td>\n",
       "      <td>782</td>\n",
       "      <td>825</td>\n",
       "      <td>872</td>\n",
       "      <td>834</td>\n",
       "      <td>795</td>\n",
       "      <td>875</td>\n",
       "      <td>798</td>\n",
       "      <td>837</td>\n",
       "      <td>888</td>\n",
       "      <td>816</td>\n",
       "      <td>836</td>\n",
       "      <td>10000</td>\n",
       "    </tr>\n",
       "  </tbody>\n",
       "</table>\n",
       "</div>"
      ],
      "text/plain": [
       "                              Region  Baby Food  Beverages  Cereal  Clothes  \\\n",
       "0                      North America         21         20      16       21   \n",
       "1              Australia and Oceania         65         50      69       77   \n",
       "2  Central America and the Caribbean         74         92      77       84   \n",
       "3       Middle East and North Africa        105         96     104      111   \n",
       "4                               Asia        132        108     121      116   \n",
       "5                 Sub-Saharan Africa        235        220     211      229   \n",
       "6                             Europe        210        196     227      234   \n",
       "7                                All        842        782     825      872   \n",
       "\n",
       "   Cosmetics  Fruits  Household  Meat  Office Supplies  Personal Care  Snacks  \\\n",
       "0         20      15         20    17               20             17      16   \n",
       "1         75      55         78    61               50             76      72   \n",
       "2         77      81        104    75               94             82      89   \n",
       "3         99     104        128   101              103            112      95   \n",
       "4        125     111        116   114              132            137     120   \n",
       "5        203     230        218   207              207            223     221   \n",
       "6        235     199        211   223              231            241     203   \n",
       "7        834     795        875   798              837            888     816   \n",
       "\n",
       "   Vegetables    All  \n",
       "0          12    215  \n",
       "1          69    797  \n",
       "2          90   1019  \n",
       "3         106   1264  \n",
       "4         137   1469  \n",
       "5         199   2603  \n",
       "6         223   2633  \n",
       "7         836  10000  "
      ]
     },
     "execution_count": 14,
     "metadata": {},
     "output_type": "execute_result"
    }
   ],
   "source": [
    "df_item = pd.crosstab(df['Region'], df['Item Type'], margins= True).reindex(order_region, axis = 0).reset_index()\n",
    "#remove index name\n",
    "df_item.columns.name = None\n",
    "df_item"
   ]
  },
  {
   "cell_type": "markdown",
   "metadata": {},
   "source": [
    "### Data Pre-processing"
   ]
  },
  {
   "cell_type": "markdown",
   "metadata": {},
   "source": [
    "#### 11. Data pre-processing"
   ]
  },
  {
   "cell_type": "code",
   "execution_count": 15,
   "metadata": {},
   "outputs": [],
   "source": [
    "df.drop(['Country','Order Date','Order ID','Ship Date'], axis = 1, inplace= True)"
   ]
  },
  {
   "cell_type": "code",
   "execution_count": 16,
   "metadata": {},
   "outputs": [
    {
     "name": "stdout",
     "output_type": "stream",
     "text": [
      "Dimension data: 10000 rows and 10 columns\n"
     ]
    },
    {
     "data": {
      "text/html": [
       "<div>\n",
       "<style scoped>\n",
       "    .dataframe tbody tr th:only-of-type {\n",
       "        vertical-align: middle;\n",
       "    }\n",
       "\n",
       "    .dataframe tbody tr th {\n",
       "        vertical-align: top;\n",
       "    }\n",
       "\n",
       "    .dataframe thead th {\n",
       "        text-align: right;\n",
       "    }\n",
       "</style>\n",
       "<table border=\"1\" class=\"dataframe\">\n",
       "  <thead>\n",
       "    <tr style=\"text-align: right;\">\n",
       "      <th></th>\n",
       "      <th>Region</th>\n",
       "      <th>Item Type</th>\n",
       "      <th>Sales Channel</th>\n",
       "      <th>Order Priority</th>\n",
       "      <th>Units Sold</th>\n",
       "      <th>Unit Price</th>\n",
       "      <th>Unit Cost</th>\n",
       "      <th>Total Revenue</th>\n",
       "      <th>Total Cost</th>\n",
       "      <th>Total Profit</th>\n",
       "    </tr>\n",
       "  </thead>\n",
       "  <tbody>\n",
       "    <tr>\n",
       "      <th>0</th>\n",
       "      <td>Sub-Saharan Africa</td>\n",
       "      <td>Office Supplies</td>\n",
       "      <td>Online</td>\n",
       "      <td>L</td>\n",
       "      <td>4484</td>\n",
       "      <td>651.210</td>\n",
       "      <td>524.960</td>\n",
       "      <td>2920025.640</td>\n",
       "      <td>2353920.640</td>\n",
       "      <td>566105.000</td>\n",
       "    </tr>\n",
       "    <tr>\n",
       "      <th>1</th>\n",
       "      <td>Europe</td>\n",
       "      <td>Beverages</td>\n",
       "      <td>Online</td>\n",
       "      <td>C</td>\n",
       "      <td>1075</td>\n",
       "      <td>47.450</td>\n",
       "      <td>31.790</td>\n",
       "      <td>51008.750</td>\n",
       "      <td>34174.250</td>\n",
       "      <td>16834.500</td>\n",
       "    </tr>\n",
       "    <tr>\n",
       "      <th>2</th>\n",
       "      <td>Middle East and North Africa</td>\n",
       "      <td>Vegetables</td>\n",
       "      <td>Offline</td>\n",
       "      <td>C</td>\n",
       "      <td>6515</td>\n",
       "      <td>154.060</td>\n",
       "      <td>90.930</td>\n",
       "      <td>1003700.900</td>\n",
       "      <td>592408.950</td>\n",
       "      <td>411291.950</td>\n",
       "    </tr>\n",
       "    <tr>\n",
       "      <th>3</th>\n",
       "      <td>Sub-Saharan Africa</td>\n",
       "      <td>Household</td>\n",
       "      <td>Online</td>\n",
       "      <td>C</td>\n",
       "      <td>7683</td>\n",
       "      <td>668.270</td>\n",
       "      <td>502.540</td>\n",
       "      <td>5134318.410</td>\n",
       "      <td>3861014.820</td>\n",
       "      <td>1273303.590</td>\n",
       "    </tr>\n",
       "    <tr>\n",
       "      <th>4</th>\n",
       "      <td>Europe</td>\n",
       "      <td>Beverages</td>\n",
       "      <td>Online</td>\n",
       "      <td>C</td>\n",
       "      <td>3491</td>\n",
       "      <td>47.450</td>\n",
       "      <td>31.790</td>\n",
       "      <td>165647.950</td>\n",
       "      <td>110978.890</td>\n",
       "      <td>54669.060</td>\n",
       "    </tr>\n",
       "  </tbody>\n",
       "</table>\n",
       "</div>"
      ],
      "text/plain": [
       "                         Region        Item Type Sales Channel Order Priority  \\\n",
       "0            Sub-Saharan Africa  Office Supplies        Online              L   \n",
       "1                        Europe        Beverages        Online              C   \n",
       "2  Middle East and North Africa       Vegetables       Offline              C   \n",
       "3            Sub-Saharan Africa        Household        Online              C   \n",
       "4                        Europe        Beverages        Online              C   \n",
       "\n",
       "   Units Sold  Unit Price  Unit Cost  Total Revenue  Total Cost  Total Profit  \n",
       "0        4484     651.210    524.960    2920025.640 2353920.640    566105.000  \n",
       "1        1075      47.450     31.790      51008.750   34174.250     16834.500  \n",
       "2        6515     154.060     90.930    1003700.900  592408.950    411291.950  \n",
       "3        7683     668.270    502.540    5134318.410 3861014.820   1273303.590  \n",
       "4        3491      47.450     31.790     165647.950  110978.890     54669.060  "
      ]
     },
     "execution_count": 16,
     "metadata": {},
     "output_type": "execute_result"
    }
   ],
   "source": [
    "print('Dimension data: {} rows and {} columns'.format(len(df), len(df.columns)))\n",
    "df.head()"
   ]
  },
  {
   "cell_type": "markdown",
   "metadata": {},
   "source": [
    "### Cluster Analysis"
   ]
  },
  {
   "cell_type": "markdown",
   "metadata": {},
   "source": [
    "#### 12. Get the position of categorical colums"
   ]
  },
  {
   "cell_type": "code",
   "execution_count": 17,
   "metadata": {},
   "outputs": [
    {
     "name": "stdout",
     "output_type": "stream",
     "text": [
      "Categorical columns              : ['Region', 'Item Type', 'Sales Channel', 'Order Priority']\n",
      "Categorical columns position     : [0, 1, 2, 3]\n"
     ]
    }
   ],
   "source": [
    "catColumnsPos = [df.columns.get_loc(col) for col in list(df.select_dtypes('object').columns)]\n",
    "print('Categorical columns              : {}'.format(list(df.select_dtypes('object').columns)))\n",
    "print('Categorical columns position     : {}'.format(catColumnsPos))"
   ]
  },
  {
   "cell_type": "markdown",
   "metadata": {},
   "source": [
    "#### 13. Convert dataframe to matrix"
   ]
  },
  {
   "cell_type": "code",
   "execution_count": 18,
   "metadata": {},
   "outputs": [],
   "source": [
    "dfMatrix = df.to_numpy()"
   ]
  },
  {
   "cell_type": "code",
   "execution_count": 19,
   "metadata": {},
   "outputs": [
    {
     "data": {
      "text/plain": [
       "array([['Sub-Saharan Africa', 'Office Supplies', 'Online', ...,\n",
       "        2920025.64, 2353920.64, 566105.0],\n",
       "       ['Europe', 'Beverages', 'Online', ..., 51008.75, 34174.25,\n",
       "        16834.5],\n",
       "       ['Middle East and North Africa', 'Vegetables', 'Offline', ...,\n",
       "        1003700.9, 592408.95, 411291.95],\n",
       "       ...,\n",
       "       ['Sub-Saharan Africa', 'Vegetables', 'Offline', ..., 388847.44,\n",
       "        229507.32, 159340.12],\n",
       "       ['Sub-Saharan Africa', 'Meat', 'Online', ..., 3672974.34,\n",
       "        3174991.14, 497983.2],\n",
       "       ['Asia', 'Snacks', 'Offline', ..., 55081.38, 35175.84, 19905.54]],\n",
       "      dtype=object)"
      ]
     },
     "execution_count": 19,
     "metadata": {},
     "output_type": "execute_result"
    }
   ],
   "source": [
    "dfMatrix"
   ]
  },
  {
   "cell_type": "markdown",
   "metadata": {},
   "source": [
    "#### 14. Choose optima K using Elbow method"
   ]
  },
  {
   "cell_type": "code",
   "execution_count": 20,
   "metadata": {},
   "outputs": [
    {
     "name": "stdout",
     "output_type": "stream",
     "text": [
      "Cluster initiation: 1\n",
      "Cluster initiation: 2\n",
      "Cluster initiation: 3\n",
      "Cluster initiation: 4\n",
      "Cluster initiation: 5\n"
     ]
    }
   ],
   "source": [
    "# Choosing optimal K\n",
    "cost = []\n",
    "for cluster in range(1, 10):\n",
    "    try:\n",
    "        kprototype = KPrototypes(n_jobs= -1, n_clusters = cluster, init= 'Huang', random_state= 0)\n",
    "        kprototype.fit_predict(dfMatrix, categorical = catColumnsPos)\n",
    "        cost.append(kprototype.cost_)\n",
    "        print('Cluster initiation: {}'.format(cluster))\n",
    "    except:\n",
    "        break"
   ]
  },
  {
   "cell_type": "code",
   "execution_count": 21,
   "metadata": {},
   "outputs": [
    {
     "data": {
      "text/html": [
       "<div>\n",
       "<style scoped>\n",
       "    .dataframe tbody tr th:only-of-type {\n",
       "        vertical-align: middle;\n",
       "    }\n",
       "\n",
       "    .dataframe tbody tr th {\n",
       "        vertical-align: top;\n",
       "    }\n",
       "\n",
       "    .dataframe thead th {\n",
       "        text-align: right;\n",
       "    }\n",
       "</style>\n",
       "<table border=\"1\" class=\"dataframe\">\n",
       "  <thead>\n",
       "    <tr style=\"text-align: right;\">\n",
       "      <th></th>\n",
       "      <th>Cluster</th>\n",
       "      <th>Cost</th>\n",
       "    </tr>\n",
       "  </thead>\n",
       "  <tbody>\n",
       "    <tr>\n",
       "      <th>0</th>\n",
       "      <td>1</td>\n",
       "      <td>36016173492135216.000</td>\n",
       "    </tr>\n",
       "    <tr>\n",
       "      <th>1</th>\n",
       "      <td>2</td>\n",
       "      <td>9627986092172950.000</td>\n",
       "    </tr>\n",
       "    <tr>\n",
       "      <th>2</th>\n",
       "      <td>3</td>\n",
       "      <td>4960707512782198.000</td>\n",
       "    </tr>\n",
       "    <tr>\n",
       "      <th>3</th>\n",
       "      <td>4</td>\n",
       "      <td>2927457054391281.500</td>\n",
       "    </tr>\n",
       "    <tr>\n",
       "      <th>4</th>\n",
       "      <td>5</td>\n",
       "      <td>1975342819318915.500</td>\n",
       "    </tr>\n",
       "  </tbody>\n",
       "</table>\n",
       "</div>"
      ],
      "text/plain": [
       "   Cluster                  Cost\n",
       "0        1 36016173492135216.000\n",
       "1        2  9627986092172950.000\n",
       "2        3  4960707512782198.000\n",
       "3        4  2927457054391281.500\n",
       "4        5  1975342819318915.500"
      ]
     },
     "execution_count": 21,
     "metadata": {},
     "output_type": "execute_result"
    }
   ],
   "source": [
    "#Converting the result into a dataframe and plotting them\n",
    "df_cost = pd.DataFrame({'Cluster': range(1,6), 'Cost':cost})\n",
    "df_cost.head()"
   ]
  },
  {
   "cell_type": "code",
   "execution_count": 22,
   "metadata": {},
   "outputs": [
    {
     "data": {
      "image/png": "[encoded data removed]",
      "text/plain": [
       "<Figure size 800x480 with 1 Axes>"
      ]
     },
     "metadata": {
      "image/png": {
       "height": 480,
       "width": 800
      },
      "needs_background": "light"
     },
     "output_type": "display_data"
    },
    {
     "data": {
      "text/plain": [
       "<Figure Size: (800 x 480)>"
      ]
     },
     "execution_count": 22,
     "metadata": {},
     "output_type": "execute_result"
    }
   ],
   "source": [
    "# Data Visualization\n",
    "plotnine.options.figure_size = (8, 4.8)\n",
    "(\n",
    "    ggplot(data=df_cost)+\n",
    "    geom_line(aes(x ='Cluster',\n",
    "                y = 'Cost'))+\n",
    "    geom_point(aes(x ='Cluster',\n",
    "                y ='Cost'))+\n",
    "    geom_label(aes(x ='Cluster',\n",
    "                y = 'Cost',\n",
    "                label = 'Cluster'),\n",
    "                size = 10,\n",
    "                nudge_y = 1000)+\n",
    "            labs(title = 'Optimal number of cluster with Elbow Method')+\n",
    "            xlab('Number of Clusters k')+\n",
    "            ylab('Cost')+\n",
    "            theme_minimal()\n",
    ")"
   ]
  },
  {
   "cell_type": "markdown",
   "metadata": {},
   "source": [
    "##### jumlah cluster k = 3. Ini akan menjadi jumlah cluster yang optimal untuk analisis cluster K-Prototype."
   ]
  },
  {
   "cell_type": "markdown",
   "metadata": {},
   "source": [
    "#### 15. Fit the cluster"
   ]
  },
  {
   "cell_type": "code",
   "execution_count": 23,
   "metadata": {},
   "outputs": [
    {
     "data": {
      "text/plain": [
       "array([2, 1, 1, ..., 1, 0, 1], dtype=uint16)"
      ]
     },
     "execution_count": 23,
     "metadata": {},
     "output_type": "execute_result"
    }
   ],
   "source": [
    "# Fit the cluster\n",
    "kprototype = KPrototypes(n_jobs= -1, n_clusters= 3, init = 'Huang',random_state = 0)\n",
    "kprototype.fit_predict(dfMatrix, categorical = catColumnsPos)"
   ]
  },
  {
   "cell_type": "markdown",
   "metadata": {},
   "source": [
    "#### 16. Cluster centroid"
   ]
  },
  {
   "cell_type": "code",
   "execution_count": 24,
   "metadata": {},
   "outputs": [
    {
     "data": {
      "text/plain": [
       "array([['7904.365546218487', '593.5265126050487', '457.7854957983237',\n",
       "        '4622760.54755461', '3559121.123487404', '1063639.4240672272',\n",
       "        'Europe', 'Household', 'Offline', 'L'],\n",
       "       ['4046.6694875411376', '163.25910672308268', '105.79686882933876',\n",
       "        '467709.4517003616', '281142.9546497418', '186566.49705061852',\n",
       "        'Sub-Saharan Africa', 'Personal Care', 'Online', 'C'],\n",
       "       ['6093.2754219843555', '384.2645039110733', '275.09750102922703',\n",
       "        '1995888.1232729503', '1380539.5273034165', '615348.5959695351',\n",
       "        'Europe', 'Cosmetics', 'Online', 'H']], dtype='<U32')"
      ]
     },
     "execution_count": 24,
     "metadata": {},
     "output_type": "execute_result"
    }
   ],
   "source": [
    "kprototype.cluster_centroids_"
   ]
  },
  {
   "cell_type": "markdown",
   "metadata": {},
   "source": [
    "#### 17. Check the iteration of the clusters created"
   ]
  },
  {
   "cell_type": "code",
   "execution_count": 25,
   "metadata": {},
   "outputs": [
    {
     "data": {
      "text/plain": [
       "7"
      ]
     },
     "execution_count": 25,
     "metadata": {},
     "output_type": "execute_result"
    }
   ],
   "source": [
    "# Check the iteration of the clusters created\n",
    "kprototype.n_iter_"
   ]
  },
  {
   "cell_type": "markdown",
   "metadata": {},
   "source": [
    "#### 18. Check the cost of the clusters created"
   ]
  },
  {
   "cell_type": "code",
   "execution_count": 26,
   "metadata": {},
   "outputs": [
    {
     "data": {
      "text/plain": [
       "4960707512782198.0"
      ]
     },
     "execution_count": 26,
     "metadata": {},
     "output_type": "execute_result"
    }
   ],
   "source": [
    "# Check the cost of the clusters created\n",
    "kprototype.cost_"
   ]
  },
  {
   "cell_type": "markdown",
   "metadata": {},
   "source": [
    "#### 19. Add the cluster to the dataframe"
   ]
  },
  {
   "cell_type": "code",
   "execution_count": 27,
   "metadata": {},
   "outputs": [],
   "source": [
    "# Add the cluster to the dataframe\n",
    "df['cluster_id'] = kprototype.labels_"
   ]
  },
  {
   "cell_type": "code",
   "execution_count": 28,
   "metadata": {},
   "outputs": [
    {
     "data": {
      "text/html": [
       "<div>\n",
       "<style scoped>\n",
       "    .dataframe tbody tr th:only-of-type {\n",
       "        vertical-align: middle;\n",
       "    }\n",
       "\n",
       "    .dataframe tbody tr th {\n",
       "        vertical-align: top;\n",
       "    }\n",
       "\n",
       "    .dataframe thead th {\n",
       "        text-align: right;\n",
       "    }\n",
       "</style>\n",
       "<table border=\"1\" class=\"dataframe\">\n",
       "  <thead>\n",
       "    <tr style=\"text-align: right;\">\n",
       "      <th></th>\n",
       "      <th>Region</th>\n",
       "      <th>Total</th>\n",
       "      <th>Percentage</th>\n",
       "    </tr>\n",
       "  </thead>\n",
       "  <tbody>\n",
       "    <tr>\n",
       "      <th>0</th>\n",
       "      <td>North America</td>\n",
       "      <td>215</td>\n",
       "      <td>0.021</td>\n",
       "    </tr>\n",
       "    <tr>\n",
       "      <th>1</th>\n",
       "      <td>Australia and Oceania</td>\n",
       "      <td>797</td>\n",
       "      <td>0.080</td>\n",
       "    </tr>\n",
       "    <tr>\n",
       "      <th>2</th>\n",
       "      <td>Central America and the Caribbean</td>\n",
       "      <td>1019</td>\n",
       "      <td>0.102</td>\n",
       "    </tr>\n",
       "    <tr>\n",
       "      <th>3</th>\n",
       "      <td>Middle East and North Africa</td>\n",
       "      <td>1264</td>\n",
       "      <td>0.126</td>\n",
       "    </tr>\n",
       "    <tr>\n",
       "      <th>4</th>\n",
       "      <td>Asia</td>\n",
       "      <td>1469</td>\n",
       "      <td>0.147</td>\n",
       "    </tr>\n",
       "    <tr>\n",
       "      <th>5</th>\n",
       "      <td>Sub-Saharan Africa</td>\n",
       "      <td>2603</td>\n",
       "      <td>0.260</td>\n",
       "    </tr>\n",
       "    <tr>\n",
       "      <th>6</th>\n",
       "      <td>Europe</td>\n",
       "      <td>2633</td>\n",
       "      <td>0.263</td>\n",
       "    </tr>\n",
       "  </tbody>\n",
       "</table>\n",
       "</div>"
      ],
      "text/plain": [
       "                              Region  Total  Percentage\n",
       "0                      North America    215       0.021\n",
       "1              Australia and Oceania    797       0.080\n",
       "2  Central America and the Caribbean   1019       0.102\n",
       "3       Middle East and North Africa   1264       0.126\n",
       "4                               Asia   1469       0.147\n",
       "5                 Sub-Saharan Africa   2603       0.260\n",
       "6                             Europe   2633       0.263"
      ]
     },
     "execution_count": 28,
     "metadata": {},
     "output_type": "execute_result"
    }
   ],
   "source": [
    "df_region = pd.DataFrame(df['Region'].value_counts()).reset_index()\n",
    "df_region['Percentage'] = df_region['Region'] / df['Region'].value_counts().sum()\n",
    "df_region.rename(columns = {'index':'Region','Region':'Total'}, inplace = True)\n",
    "df_region = df_region.sort_values('Total', ascending = True).reset_index(drop= True)\n",
    "df_region"
   ]
  },
  {
   "cell_type": "code",
   "execution_count": 29,
   "metadata": {},
   "outputs": [
    {
     "data": {
      "text/html": [
       "<div>\n",
       "<style scoped>\n",
       "    .dataframe tbody tr th:only-of-type {\n",
       "        vertical-align: middle;\n",
       "    }\n",
       "\n",
       "    .dataframe tbody tr th {\n",
       "        vertical-align: top;\n",
       "    }\n",
       "\n",
       "    .dataframe thead th {\n",
       "        text-align: right;\n",
       "    }\n",
       "</style>\n",
       "<table border=\"1\" class=\"dataframe\">\n",
       "  <thead>\n",
       "    <tr style=\"text-align: right;\">\n",
       "      <th></th>\n",
       "      <th>Region</th>\n",
       "      <th>Item Type</th>\n",
       "      <th>Sales Channel</th>\n",
       "      <th>Order Priority</th>\n",
       "      <th>Units Sold</th>\n",
       "      <th>Unit Price</th>\n",
       "      <th>Unit Cost</th>\n",
       "      <th>Total Revenue</th>\n",
       "      <th>Total Cost</th>\n",
       "      <th>Total Profit</th>\n",
       "      <th>cluster_id</th>\n",
       "      <th>Cluster Labels</th>\n",
       "      <th>Segment</th>\n",
       "    </tr>\n",
       "  </thead>\n",
       "  <tbody>\n",
       "    <tr>\n",
       "      <th>0</th>\n",
       "      <td>Sub-Saharan Africa</td>\n",
       "      <td>Office Supplies</td>\n",
       "      <td>Online</td>\n",
       "      <td>L</td>\n",
       "      <td>4484</td>\n",
       "      <td>651.210</td>\n",
       "      <td>524.960</td>\n",
       "      <td>2920025.640</td>\n",
       "      <td>2353920.640</td>\n",
       "      <td>566105.000</td>\n",
       "      <td>2</td>\n",
       "      <td>2</td>\n",
       "      <td>Third</td>\n",
       "    </tr>\n",
       "    <tr>\n",
       "      <th>1</th>\n",
       "      <td>Europe</td>\n",
       "      <td>Beverages</td>\n",
       "      <td>Online</td>\n",
       "      <td>C</td>\n",
       "      <td>1075</td>\n",
       "      <td>47.450</td>\n",
       "      <td>31.790</td>\n",
       "      <td>51008.750</td>\n",
       "      <td>34174.250</td>\n",
       "      <td>16834.500</td>\n",
       "      <td>1</td>\n",
       "      <td>1</td>\n",
       "      <td>Second</td>\n",
       "    </tr>\n",
       "    <tr>\n",
       "      <th>2</th>\n",
       "      <td>Middle East and North Africa</td>\n",
       "      <td>Vegetables</td>\n",
       "      <td>Offline</td>\n",
       "      <td>C</td>\n",
       "      <td>6515</td>\n",
       "      <td>154.060</td>\n",
       "      <td>90.930</td>\n",
       "      <td>1003700.900</td>\n",
       "      <td>592408.950</td>\n",
       "      <td>411291.950</td>\n",
       "      <td>1</td>\n",
       "      <td>1</td>\n",
       "      <td>Second</td>\n",
       "    </tr>\n",
       "    <tr>\n",
       "      <th>3</th>\n",
       "      <td>Sub-Saharan Africa</td>\n",
       "      <td>Household</td>\n",
       "      <td>Online</td>\n",
       "      <td>C</td>\n",
       "      <td>7683</td>\n",
       "      <td>668.270</td>\n",
       "      <td>502.540</td>\n",
       "      <td>5134318.410</td>\n",
       "      <td>3861014.820</td>\n",
       "      <td>1273303.590</td>\n",
       "      <td>0</td>\n",
       "      <td>0</td>\n",
       "      <td>First</td>\n",
       "    </tr>\n",
       "    <tr>\n",
       "      <th>4</th>\n",
       "      <td>Europe</td>\n",
       "      <td>Beverages</td>\n",
       "      <td>Online</td>\n",
       "      <td>C</td>\n",
       "      <td>3491</td>\n",
       "      <td>47.450</td>\n",
       "      <td>31.790</td>\n",
       "      <td>165647.950</td>\n",
       "      <td>110978.890</td>\n",
       "      <td>54669.060</td>\n",
       "      <td>1</td>\n",
       "      <td>1</td>\n",
       "      <td>Second</td>\n",
       "    </tr>\n",
       "  </tbody>\n",
       "</table>\n",
       "</div>"
      ],
      "text/plain": [
       "                         Region        Item Type Sales Channel Order Priority  \\\n",
       "0            Sub-Saharan Africa  Office Supplies        Online              L   \n",
       "1                        Europe        Beverages        Online              C   \n",
       "2  Middle East and North Africa       Vegetables       Offline              C   \n",
       "3            Sub-Saharan Africa        Household        Online              C   \n",
       "4                        Europe        Beverages        Online              C   \n",
       "\n",
       "   Units Sold  Unit Price  Unit Cost  Total Revenue  Total Cost  Total Profit  \\\n",
       "0        4484     651.210    524.960    2920025.640 2353920.640    566105.000   \n",
       "1        1075      47.450     31.790      51008.750   34174.250     16834.500   \n",
       "2        6515     154.060     90.930    1003700.900  592408.950    411291.950   \n",
       "3        7683     668.270    502.540    5134318.410 3861014.820   1273303.590   \n",
       "4        3491      47.450     31.790     165647.950  110978.890     54669.060   \n",
       "\n",
       "   cluster_id  Cluster Labels Segment  \n",
       "0           2               2   Third  \n",
       "1           1               1  Second  \n",
       "2           1               1  Second  \n",
       "3           0               0   First  \n",
       "4           1               1  Second  "
      ]
     },
     "execution_count": 29,
     "metadata": {},
     "output_type": "execute_result"
    }
   ],
   "source": [
    "# Add the cluster to the dataframe\n",
    "df['Cluster Labels'] = kprototype.labels_\n",
    "df['Segment'] = df['Cluster Labels'].map({0:'First', 1:'Second',2:'Third'})\n",
    "\n",
    "#Order the cluster\n",
    "df['Segment'] = df['Segment'].astype('category')\n",
    "df['Segment'] = df['Segment'].cat.reorder_categories(['First','Second','Third'])\n",
    "df.head()"
   ]
  },
  {
   "cell_type": "markdown",
   "metadata": {},
   "source": [
    "#### 20. Cluster interpretation"
   ]
  },
  {
   "cell_type": "code",
   "execution_count": 30,
   "metadata": {},
   "outputs": [
    {
     "data": {
      "text/html": [
       "<div>\n",
       "<style scoped>\n",
       "    .dataframe tbody tr th:only-of-type {\n",
       "        vertical-align: middle;\n",
       "    }\n",
       "\n",
       "    .dataframe tbody tr th {\n",
       "        vertical-align: top;\n",
       "    }\n",
       "\n",
       "    .dataframe thead th {\n",
       "        text-align: right;\n",
       "    }\n",
       "</style>\n",
       "<table border=\"1\" class=\"dataframe\">\n",
       "  <thead>\n",
       "    <tr style=\"text-align: right;\">\n",
       "      <th></th>\n",
       "      <th>Segment</th>\n",
       "      <th>Total</th>\n",
       "      <th>Region</th>\n",
       "      <th>Item Type</th>\n",
       "      <th>Sales Channel</th>\n",
       "      <th>Order Priority</th>\n",
       "      <th>Units Sold</th>\n",
       "      <th>Unit Price</th>\n",
       "      <th>Total Revenue</th>\n",
       "      <th>Total Cost</th>\n",
       "      <th>Total Profit</th>\n",
       "    </tr>\n",
       "  </thead>\n",
       "  <tbody>\n",
       "    <tr>\n",
       "      <th>0</th>\n",
       "      <td>First</td>\n",
       "      <td>1190</td>\n",
       "      <td>Europe</td>\n",
       "      <td>Household</td>\n",
       "      <td>Offline</td>\n",
       "      <td>L</td>\n",
       "      <td>7904.366</td>\n",
       "      <td>593.527</td>\n",
       "      <td>4622760.548</td>\n",
       "      <td>3559121.123</td>\n",
       "      <td>1063639.424</td>\n",
       "    </tr>\n",
       "    <tr>\n",
       "      <th>1</th>\n",
       "      <td>Second</td>\n",
       "      <td>6381</td>\n",
       "      <td>Sub-Saharan Africa</td>\n",
       "      <td>Personal Care</td>\n",
       "      <td>Online</td>\n",
       "      <td>C</td>\n",
       "      <td>4046.669</td>\n",
       "      <td>163.259</td>\n",
       "      <td>467709.452</td>\n",
       "      <td>281142.955</td>\n",
       "      <td>186566.497</td>\n",
       "    </tr>\n",
       "    <tr>\n",
       "      <th>2</th>\n",
       "      <td>Third</td>\n",
       "      <td>2429</td>\n",
       "      <td>Europe</td>\n",
       "      <td>Cosmetics</td>\n",
       "      <td>Online</td>\n",
       "      <td>H</td>\n",
       "      <td>6093.275</td>\n",
       "      <td>384.265</td>\n",
       "      <td>1995888.123</td>\n",
       "      <td>1380539.527</td>\n",
       "      <td>615348.596</td>\n",
       "    </tr>\n",
       "  </tbody>\n",
       "</table>\n",
       "</div>"
      ],
      "text/plain": [
       "  Segment  Total              Region      Item Type Sales Channel  \\\n",
       "0   First   1190              Europe      Household       Offline   \n",
       "1  Second   6381  Sub-Saharan Africa  Personal Care        Online   \n",
       "2   Third   2429              Europe      Cosmetics        Online   \n",
       "\n",
       "  Order Priority  Units Sold  Unit Price  Total Revenue  Total Cost  \\\n",
       "0              L    7904.366     593.527    4622760.548 3559121.123   \n",
       "1              C    4046.669     163.259     467709.452  281142.955   \n",
       "2              H    6093.275     384.265    1995888.123 1380539.527   \n",
       "\n",
       "   Total Profit  \n",
       "0   1063639.424  \n",
       "1    186566.497  \n",
       "2    615348.596  "
      ]
     },
     "execution_count": 30,
     "metadata": {},
     "output_type": "execute_result"
    }
   ],
   "source": [
    "df.rename(columns= {'Cluster Labels' :'Total'}, inplace= True)\n",
    "df.groupby('Segment').agg(\n",
    "    {\n",
    "        'Total':'count',\n",
    "        'Region': lambda x: x.value_counts().index[0],\n",
    "        'Item Type': lambda x: x.value_counts().index[0],\n",
    "        'Sales Channel': lambda x: x.value_counts().index[0],\n",
    "        'Order Priority': lambda x: x.value_counts().index[0],\n",
    "        'Units Sold': 'mean',\n",
    "        'Unit Price': 'mean',\n",
    "        'Total Revenue': 'mean',\n",
    "        'Total Cost': 'mean',\n",
    "        'Total Profit':'mean'\n",
    "    }\n",
    ").reset_index()"
   ]
  },
  {
   "cell_type": "markdown",
   "metadata": {},
   "source": [
    "## K-Modes Clustering"
   ]
  },
  {
   "cell_type": "markdown",
   "metadata": {},
   "source": [
    "#### 1.Import Library"
   ]
  },
  {
   "cell_type": "code",
   "execution_count": 31,
   "metadata": {},
   "outputs": [],
   "source": [
    "import pandas as pd\n",
    "import numpy as n\n",
    "import matplotlib.pyplot as plt"
   ]
  },
  {
   "cell_type": "markdown",
   "metadata": {},
   "source": [
    "#### 2. gunakan dataset dummy dan lihat hasilnya"
   ]
  },
  {
   "cell_type": "code",
   "execution_count": 32,
   "metadata": {},
   "outputs": [
    {
     "data": {
      "text/html": [
       "<div>\n",
       "<style scoped>\n",
       "    .dataframe tbody tr th:only-of-type {\n",
       "        vertical-align: middle;\n",
       "    }\n",
       "\n",
       "    .dataframe tbody tr th {\n",
       "        vertical-align: top;\n",
       "    }\n",
       "\n",
       "    .dataframe thead th {\n",
       "        text-align: right;\n",
       "    }\n",
       "</style>\n",
       "<table border=\"1\" class=\"dataframe\">\n",
       "  <thead>\n",
       "    <tr style=\"text-align: right;\">\n",
       "      <th></th>\n",
       "      <th>Individual</th>\n",
       "      <th>Skill</th>\n",
       "    </tr>\n",
       "  </thead>\n",
       "  <tbody>\n",
       "    <tr>\n",
       "      <th>0</th>\n",
       "      <td>1</td>\n",
       "      <td>C</td>\n",
       "    </tr>\n",
       "    <tr>\n",
       "      <th>1</th>\n",
       "      <td>1</td>\n",
       "      <td>Python</td>\n",
       "    </tr>\n",
       "    <tr>\n",
       "      <th>2</th>\n",
       "      <td>1</td>\n",
       "      <td>Java</td>\n",
       "    </tr>\n",
       "    <tr>\n",
       "      <th>3</th>\n",
       "      <td>1</td>\n",
       "      <td>Haskell</td>\n",
       "    </tr>\n",
       "    <tr>\n",
       "      <th>4</th>\n",
       "      <td>2</td>\n",
       "      <td>Python</td>\n",
       "    </tr>\n",
       "    <tr>\n",
       "      <th>5</th>\n",
       "      <td>2</td>\n",
       "      <td>React</td>\n",
       "    </tr>\n",
       "    <tr>\n",
       "      <th>6</th>\n",
       "      <td>2</td>\n",
       "      <td>JS</td>\n",
       "    </tr>\n",
       "    <tr>\n",
       "      <th>7</th>\n",
       "      <td>2</td>\n",
       "      <td>PHP</td>\n",
       "    </tr>\n",
       "    <tr>\n",
       "      <th>8</th>\n",
       "      <td>3</td>\n",
       "      <td>C++</td>\n",
       "    </tr>\n",
       "    <tr>\n",
       "      <th>9</th>\n",
       "      <td>3</td>\n",
       "      <td>JS</td>\n",
       "    </tr>\n",
       "    <tr>\n",
       "      <th>10</th>\n",
       "      <td>3</td>\n",
       "      <td>Flutter</td>\n",
       "    </tr>\n",
       "    <tr>\n",
       "      <th>11</th>\n",
       "      <td>3</td>\n",
       "      <td>Android</td>\n",
       "    </tr>\n",
       "    <tr>\n",
       "      <th>12</th>\n",
       "      <td>3</td>\n",
       "      <td>iOS</td>\n",
       "    </tr>\n",
       "    <tr>\n",
       "      <th>13</th>\n",
       "      <td>4</td>\n",
       "      <td>Fortran</td>\n",
       "    </tr>\n",
       "    <tr>\n",
       "      <th>14</th>\n",
       "      <td>4</td>\n",
       "      <td>Pascal</td>\n",
       "    </tr>\n",
       "    <tr>\n",
       "      <th>15</th>\n",
       "      <td>4</td>\n",
       "      <td>.NET</td>\n",
       "    </tr>\n",
       "    <tr>\n",
       "      <th>16</th>\n",
       "      <td>4</td>\n",
       "      <td>C#</td>\n",
       "    </tr>\n",
       "    <tr>\n",
       "      <th>17</th>\n",
       "      <td>4</td>\n",
       "      <td>C</td>\n",
       "    </tr>\n",
       "    <tr>\n",
       "      <th>18</th>\n",
       "      <td>4</td>\n",
       "      <td>MATLAB</td>\n",
       "    </tr>\n",
       "  </tbody>\n",
       "</table>\n",
       "</div>"
      ],
      "text/plain": [
       "    Individual    Skill\n",
       "0            1        C\n",
       "1            1   Python\n",
       "2            1     Java\n",
       "3            1  Haskell\n",
       "4            2   Python\n",
       "5            2    React\n",
       "6            2       JS\n",
       "7            2      PHP\n",
       "8            3      C++\n",
       "9            3       JS\n",
       "10           3  Flutter\n",
       "11           3  Android\n",
       "12           3      iOS\n",
       "13           4  Fortran\n",
       "14           4   Pascal\n",
       "15           4     .NET\n",
       "16           4       C#\n",
       "17           4        C\n",
       "18           4   MATLAB"
      ]
     },
     "execution_count": 32,
     "metadata": {},
     "output_type": "execute_result"
    }
   ],
   "source": [
    "data = pd.read_csv(r'D:\\SEMESTER 4\\IS411 Data Modelling\\LAB\\IS411_C-HY_00000054804_Christopher Darren_Week-12\\data.csv')\n",
    "data"
   ]
  },
  {
   "cell_type": "markdown",
   "metadata": {},
   "source": [
    "#### 3. Kita akan memberikan tanda kepada individual yang memiliki skill dengan cara :"
   ]
  },
  {
   "cell_type": "code",
   "execution_count": 33,
   "metadata": {},
   "outputs": [
    {
     "data": {
      "text/html": [
       "<div>\n",
       "<style scoped>\n",
       "    .dataframe tbody tr th:only-of-type {\n",
       "        vertical-align: middle;\n",
       "    }\n",
       "\n",
       "    .dataframe tbody tr th {\n",
       "        vertical-align: top;\n",
       "    }\n",
       "\n",
       "    .dataframe thead th {\n",
       "        text-align: right;\n",
       "    }\n",
       "</style>\n",
       "<table border=\"1\" class=\"dataframe\">\n",
       "  <thead>\n",
       "    <tr style=\"text-align: right;\">\n",
       "      <th></th>\n",
       "      <th>C</th>\n",
       "      <th>Python</th>\n",
       "      <th>Java</th>\n",
       "      <th>Haskell</th>\n",
       "      <th>React</th>\n",
       "      <th>JS</th>\n",
       "      <th>PHP</th>\n",
       "      <th>C++</th>\n",
       "      <th>Flutter</th>\n",
       "      <th>Android</th>\n",
       "      <th>iOS</th>\n",
       "      <th>Fortran</th>\n",
       "      <th>Pascal</th>\n",
       "      <th>.NET</th>\n",
       "      <th>C#</th>\n",
       "      <th>MATLAB</th>\n",
       "    </tr>\n",
       "    <tr>\n",
       "      <th>Individual</th>\n",
       "      <th></th>\n",
       "      <th></th>\n",
       "      <th></th>\n",
       "      <th></th>\n",
       "      <th></th>\n",
       "      <th></th>\n",
       "      <th></th>\n",
       "      <th></th>\n",
       "      <th></th>\n",
       "      <th></th>\n",
       "      <th></th>\n",
       "      <th></th>\n",
       "      <th></th>\n",
       "      <th></th>\n",
       "      <th></th>\n",
       "      <th></th>\n",
       "    </tr>\n",
       "  </thead>\n",
       "  <tbody>\n",
       "    <tr>\n",
       "      <th>1</th>\n",
       "      <td>1</td>\n",
       "      <td>1</td>\n",
       "      <td>1</td>\n",
       "      <td>1</td>\n",
       "      <td>0</td>\n",
       "      <td>0</td>\n",
       "      <td>0</td>\n",
       "      <td>0</td>\n",
       "      <td>0</td>\n",
       "      <td>0</td>\n",
       "      <td>0</td>\n",
       "      <td>0</td>\n",
       "      <td>0</td>\n",
       "      <td>0</td>\n",
       "      <td>0</td>\n",
       "      <td>0</td>\n",
       "    </tr>\n",
       "    <tr>\n",
       "      <th>2</th>\n",
       "      <td>0</td>\n",
       "      <td>1</td>\n",
       "      <td>0</td>\n",
       "      <td>0</td>\n",
       "      <td>1</td>\n",
       "      <td>1</td>\n",
       "      <td>1</td>\n",
       "      <td>0</td>\n",
       "      <td>0</td>\n",
       "      <td>0</td>\n",
       "      <td>0</td>\n",
       "      <td>0</td>\n",
       "      <td>0</td>\n",
       "      <td>0</td>\n",
       "      <td>0</td>\n",
       "      <td>0</td>\n",
       "    </tr>\n",
       "    <tr>\n",
       "      <th>3</th>\n",
       "      <td>0</td>\n",
       "      <td>0</td>\n",
       "      <td>0</td>\n",
       "      <td>0</td>\n",
       "      <td>0</td>\n",
       "      <td>1</td>\n",
       "      <td>0</td>\n",
       "      <td>1</td>\n",
       "      <td>1</td>\n",
       "      <td>1</td>\n",
       "      <td>1</td>\n",
       "      <td>0</td>\n",
       "      <td>0</td>\n",
       "      <td>0</td>\n",
       "      <td>0</td>\n",
       "      <td>0</td>\n",
       "    </tr>\n",
       "    <tr>\n",
       "      <th>4</th>\n",
       "      <td>1</td>\n",
       "      <td>0</td>\n",
       "      <td>0</td>\n",
       "      <td>0</td>\n",
       "      <td>0</td>\n",
       "      <td>0</td>\n",
       "      <td>0</td>\n",
       "      <td>0</td>\n",
       "      <td>0</td>\n",
       "      <td>0</td>\n",
       "      <td>0</td>\n",
       "      <td>1</td>\n",
       "      <td>1</td>\n",
       "      <td>1</td>\n",
       "      <td>1</td>\n",
       "      <td>1</td>\n",
       "    </tr>\n",
       "  </tbody>\n",
       "</table>\n",
       "</div>"
      ],
      "text/plain": [
       "            C  Python  Java  Haskell  React  JS  PHP  C++  Flutter  Android  \\\n",
       "Individual                                                                    \n",
       "1           1       1     1        1      0   0    0    0        0        0   \n",
       "2           0       1     0        0      1   1    1    0        0        0   \n",
       "3           0       0     0        0      0   1    0    1        1        1   \n",
       "4           1       0     0        0      0   0    0    0        0        0   \n",
       "\n",
       "            iOS  Fortran  Pascal  .NET  C#  MATLAB  \n",
       "Individual                                          \n",
       "1             0        0       0     0   0       0  \n",
       "2             0        0       0     0   0       0  \n",
       "3             1        0       0     0   0       0  \n",
       "4             0        1       1     1   1       1  "
      ]
     },
     "execution_count": 33,
     "metadata": {},
     "output_type": "execute_result"
    }
   ],
   "source": [
    "one_hot_df = data.copy()\n",
    "for i, name in enumerate(data['Skill'].unique()):\n",
    "    one_hot_df[name] = 0\n",
    "def set_product(x):\n",
    "    x[str(x['Skill'])] = 1\n",
    "    return x\n",
    "\n",
    "one_hot_df = one_hot_df.apply(set_product, axis=1)\n",
    "one_hot_df = one_hot_df.groupby(['Individual']).sum()\n",
    "one_hot_df"
   ]
  },
  {
   "cell_type": "markdown",
   "metadata": {},
   "source": [
    "#### 4. Lalu kita coba menggunakan 3 culster dengan initial Huang untuk memprediksi mendapat K-Modes"
   ]
  },
  {
   "cell_type": "code",
   "execution_count": 34,
   "metadata": {},
   "outputs": [
    {
     "name": "stdout",
     "output_type": "stream",
     "text": [
      "Init: initializing centroids\n",
      "Init: initializing clusters\n",
      "Starting iterations...\n",
      "Run 1, iteration: 1/100, moves: 0, cost: 6.0\n",
      "Init: initializing centroids\n",
      "Init: initializing clusters\n",
      "Starting iterations...\n",
      "Run 2, iteration: 1/100, moves: 0, cost: 8.0\n",
      "Init: initializing centroids\n",
      "Init: initializing clusters\n",
      "Starting iterations...\n",
      "Run 3, iteration: 1/100, moves: 0, cost: 6.0\n",
      "Init: initializing centroids\n",
      "Init: initializing clusters\n",
      "Starting iterations...\n",
      "Run 4, iteration: 1/100, moves: 0, cost: 6.0\n",
      "Best run was number 1\n",
      "\n",
      "cluster 0: \n",
      "C\n",
      "Fortran\n",
      "Pascal\n",
      ".NET\n",
      "C#\n",
      "MATLAB\n",
      "\n",
      "cluster 1: \n",
      "Python\n",
      "\n",
      "cluster 2: \n",
      "JS\n",
      "C++\n",
      "Flutter\n",
      "Android\n",
      "iOS\n"
     ]
    }
   ],
   "source": [
    "from kmodes.kmodes import KModes\n",
    "# define the k-modes model\n",
    "km = KModes(n_clusters=3, init ='Huang', n_init=4, verbose=1)\n",
    "# fit the clustrs to the skills dataframe\n",
    "\n",
    "cluster = km.fit_predict(one_hot_df)\n",
    "# get an array of cluster modes\n",
    "kmodes = km.cluster_centroids_\n",
    "shape = kmodes.shape\n",
    "# For each cluster mode ( a vector of \"1\" and \"0\")\n",
    "# find and print the coumn headings where \"1\" appears.\n",
    "# If no \"1\" appears, assign to \"no-styles\" cluster.\n",
    "for i in range(shape[0]):\n",
    "    if sum(kmodes[1,:]) == 0:\n",
    "        print(\"\\ncluster \" + str(i) + \": \")\n",
    "        print(\"no style cluster\")\n",
    "    else:\n",
    "        print(\"\\ncluster \" + str(i) + \": \")\n",
    "        cent = kmodes[i,:]\n",
    "        for j in one_hot_df.columns[np.nonzero(cent)]:\n",
    "            print(j)"
   ]
  }
 ],
 "metadata": {
  "interpreter": {
   "hash": "2715ab2c4cfd5d2c984036a56f3b78bce84b5b2862cfe98dcde82e9db7682514"
  },
  "kernelspec": {
   "display_name": "Python 3.9.12 ('base')",
   "language": "python",
   "name": "python3"
  },
  "language_info": {
   "codemirror_mode": {
    "name": "ipython",
    "version": 3
   },
   "file_extension": ".py",
   "mimetype": "text/x-python",
   "name": "python",
   "nbconvert_exporter": "python",
   "pygments_lexer": "ipython3",
   "version": "3.9.12"
  },
  "orig_nbformat": 4
 },
 "nbformat": 4,
 "nbformat_minor": 2
}
