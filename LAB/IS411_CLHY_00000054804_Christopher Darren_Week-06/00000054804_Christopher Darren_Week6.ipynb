{
 "cells": [
  {
   "cell_type": "markdown",
   "id": "9d6b3aa9",
   "metadata": {},
   "source": [
    "# STATISTIC FOR DATA SCIENCE Part 2"
   ]
  },
  {
   "cell_type": "markdown",
   "id": "3ff4c0cf",
   "metadata": {},
   "source": [
    "#### Import Library"
   ]
  },
  {
   "cell_type": "code",
   "execution_count": 1,
   "id": "507b43a1",
   "metadata": {},
   "outputs": [],
   "source": [
    "import pandas as pd\n",
    "import numpy as np"
   ]
  },
  {
   "cell_type": "markdown",
   "id": "0b476da3",
   "metadata": {},
   "source": [
    "#### Import data"
   ]
  },
  {
   "cell_type": "code",
   "execution_count": 2,
   "id": "778cecb5",
   "metadata": {},
   "outputs": [
    {
     "data": {
      "text/html": [
       "<div>\n",
       "<style scoped>\n",
       "    .dataframe tbody tr th:only-of-type {\n",
       "        vertical-align: middle;\n",
       "    }\n",
       "\n",
       "    .dataframe tbody tr th {\n",
       "        vertical-align: top;\n",
       "    }\n",
       "\n",
       "    .dataframe thead th {\n",
       "        text-align: right;\n",
       "    }\n",
       "</style>\n",
       "<table border=\"1\" class=\"dataframe\">\n",
       "  <thead>\n",
       "    <tr style=\"text-align: right;\">\n",
       "      <th></th>\n",
       "      <th>fixed acidity</th>\n",
       "      <th>volatile acidity</th>\n",
       "      <th>citric acid</th>\n",
       "      <th>residual sugar</th>\n",
       "      <th>chlorides</th>\n",
       "      <th>free sulfur dioxide</th>\n",
       "      <th>total sulfur dioxide</th>\n",
       "      <th>density</th>\n",
       "      <th>pH</th>\n",
       "      <th>sulphates</th>\n",
       "      <th>alcohol</th>\n",
       "      <th>quality</th>\n",
       "    </tr>\n",
       "  </thead>\n",
       "  <tbody>\n",
       "    <tr>\n",
       "      <th>0</th>\n",
       "      <td>7.4</td>\n",
       "      <td>0.70</td>\n",
       "      <td>0.00</td>\n",
       "      <td>1.9</td>\n",
       "      <td>0.076</td>\n",
       "      <td>11.0</td>\n",
       "      <td>34.0</td>\n",
       "      <td>0.9978</td>\n",
       "      <td>3.51</td>\n",
       "      <td>0.56</td>\n",
       "      <td>9.4</td>\n",
       "      <td>5</td>\n",
       "    </tr>\n",
       "    <tr>\n",
       "      <th>1</th>\n",
       "      <td>7.8</td>\n",
       "      <td>0.88</td>\n",
       "      <td>0.00</td>\n",
       "      <td>2.6</td>\n",
       "      <td>0.098</td>\n",
       "      <td>25.0</td>\n",
       "      <td>67.0</td>\n",
       "      <td>0.9968</td>\n",
       "      <td>3.20</td>\n",
       "      <td>0.68</td>\n",
       "      <td>9.8</td>\n",
       "      <td>5</td>\n",
       "    </tr>\n",
       "    <tr>\n",
       "      <th>2</th>\n",
       "      <td>7.8</td>\n",
       "      <td>0.76</td>\n",
       "      <td>0.04</td>\n",
       "      <td>2.3</td>\n",
       "      <td>0.092</td>\n",
       "      <td>15.0</td>\n",
       "      <td>54.0</td>\n",
       "      <td>0.9970</td>\n",
       "      <td>3.26</td>\n",
       "      <td>0.65</td>\n",
       "      <td>9.8</td>\n",
       "      <td>5</td>\n",
       "    </tr>\n",
       "    <tr>\n",
       "      <th>3</th>\n",
       "      <td>11.2</td>\n",
       "      <td>0.28</td>\n",
       "      <td>0.56</td>\n",
       "      <td>1.9</td>\n",
       "      <td>0.075</td>\n",
       "      <td>17.0</td>\n",
       "      <td>60.0</td>\n",
       "      <td>0.9980</td>\n",
       "      <td>3.16</td>\n",
       "      <td>0.58</td>\n",
       "      <td>9.8</td>\n",
       "      <td>6</td>\n",
       "    </tr>\n",
       "    <tr>\n",
       "      <th>4</th>\n",
       "      <td>7.4</td>\n",
       "      <td>0.70</td>\n",
       "      <td>0.00</td>\n",
       "      <td>1.9</td>\n",
       "      <td>0.076</td>\n",
       "      <td>11.0</td>\n",
       "      <td>34.0</td>\n",
       "      <td>0.9978</td>\n",
       "      <td>3.51</td>\n",
       "      <td>0.56</td>\n",
       "      <td>9.4</td>\n",
       "      <td>5</td>\n",
       "    </tr>\n",
       "  </tbody>\n",
       "</table>\n",
       "</div>"
      ],
      "text/plain": [
       "   fixed acidity  volatile acidity  citric acid  residual sugar  chlorides  \\\n",
       "0            7.4              0.70         0.00             1.9      0.076   \n",
       "1            7.8              0.88         0.00             2.6      0.098   \n",
       "2            7.8              0.76         0.04             2.3      0.092   \n",
       "3           11.2              0.28         0.56             1.9      0.075   \n",
       "4            7.4              0.70         0.00             1.9      0.076   \n",
       "\n",
       "   free sulfur dioxide  total sulfur dioxide  density    pH  sulphates  \\\n",
       "0                 11.0                  34.0   0.9978  3.51       0.56   \n",
       "1                 25.0                  67.0   0.9968  3.20       0.68   \n",
       "2                 15.0                  54.0   0.9970  3.26       0.65   \n",
       "3                 17.0                  60.0   0.9980  3.16       0.58   \n",
       "4                 11.0                  34.0   0.9978  3.51       0.56   \n",
       "\n",
       "   alcohol  quality  \n",
       "0      9.4        5  \n",
       "1      9.8        5  \n",
       "2      9.8        5  \n",
       "3      9.8        6  \n",
       "4      9.4        5  "
      ]
     },
     "execution_count": 2,
     "metadata": {},
     "output_type": "execute_result"
    }
   ],
   "source": [
    "dataset_red = pd.read_csv(r\"D:\\SEMESTER 4\\IS411 Data Modelling\\LAB\\Bahan Modul 6\\winequality-red.csv\", delimiter=';')\n",
    "dataset_red.head(5)"
   ]
  },
  {
   "cell_type": "code",
   "execution_count": 3,
   "id": "f0b74baf",
   "metadata": {},
   "outputs": [
    {
     "name": "stdout",
     "output_type": "stream",
     "text": [
      "<class 'pandas.core.frame.DataFrame'>\n",
      "RangeIndex: 1599 entries, 0 to 1598\n",
      "Data columns (total 12 columns):\n",
      " #   Column                Non-Null Count  Dtype  \n",
      "---  ------                --------------  -----  \n",
      " 0   fixed acidity         1599 non-null   float64\n",
      " 1   volatile acidity      1599 non-null   float64\n",
      " 2   citric acid           1599 non-null   float64\n",
      " 3   residual sugar        1599 non-null   float64\n",
      " 4   chlorides             1599 non-null   float64\n",
      " 5   free sulfur dioxide   1599 non-null   float64\n",
      " 6   total sulfur dioxide  1599 non-null   float64\n",
      " 7   density               1599 non-null   float64\n",
      " 8   pH                    1599 non-null   float64\n",
      " 9   sulphates             1599 non-null   float64\n",
      " 10  alcohol               1599 non-null   float64\n",
      " 11  quality               1599 non-null   int64  \n",
      "dtypes: float64(11), int64(1)\n",
      "memory usage: 150.0 KB\n"
     ]
    },
    {
     "data": {
      "text/plain": [
       "(1599, 12)"
      ]
     },
     "execution_count": 3,
     "metadata": {},
     "output_type": "execute_result"
    }
   ],
   "source": [
    "dataset_red.info()\n",
    "dataset_red.shape"
   ]
  },
  {
   "cell_type": "code",
   "execution_count": 4,
   "id": "5ea5a3ad",
   "metadata": {},
   "outputs": [
    {
     "data": {
      "text/html": [
       "<div>\n",
       "<style scoped>\n",
       "    .dataframe tbody tr th:only-of-type {\n",
       "        vertical-align: middle;\n",
       "    }\n",
       "\n",
       "    .dataframe tbody tr th {\n",
       "        vertical-align: top;\n",
       "    }\n",
       "\n",
       "    .dataframe thead th {\n",
       "        text-align: right;\n",
       "    }\n",
       "</style>\n",
       "<table border=\"1\" class=\"dataframe\">\n",
       "  <thead>\n",
       "    <tr style=\"text-align: right;\">\n",
       "      <th></th>\n",
       "      <th>fixed acidity</th>\n",
       "      <th>volatile acidity</th>\n",
       "      <th>citric acid</th>\n",
       "      <th>residual sugar</th>\n",
       "      <th>chlorides</th>\n",
       "      <th>free sulfur dioxide</th>\n",
       "      <th>total sulfur dioxide</th>\n",
       "      <th>density</th>\n",
       "      <th>pH</th>\n",
       "      <th>sulphates</th>\n",
       "      <th>alcohol</th>\n",
       "      <th>quality</th>\n",
       "    </tr>\n",
       "  </thead>\n",
       "  <tbody>\n",
       "    <tr>\n",
       "      <th>count</th>\n",
       "      <td>1599.000000</td>\n",
       "      <td>1599.000000</td>\n",
       "      <td>1599.000000</td>\n",
       "      <td>1599.000000</td>\n",
       "      <td>1599.000000</td>\n",
       "      <td>1599.000000</td>\n",
       "      <td>1599.000000</td>\n",
       "      <td>1599.000000</td>\n",
       "      <td>1599.000000</td>\n",
       "      <td>1599.000000</td>\n",
       "      <td>1599.000000</td>\n",
       "      <td>1599.000000</td>\n",
       "    </tr>\n",
       "    <tr>\n",
       "      <th>mean</th>\n",
       "      <td>8.319637</td>\n",
       "      <td>0.527821</td>\n",
       "      <td>0.270976</td>\n",
       "      <td>2.538806</td>\n",
       "      <td>0.087467</td>\n",
       "      <td>15.874922</td>\n",
       "      <td>46.467792</td>\n",
       "      <td>0.996747</td>\n",
       "      <td>3.311113</td>\n",
       "      <td>0.658149</td>\n",
       "      <td>10.422983</td>\n",
       "      <td>5.636023</td>\n",
       "    </tr>\n",
       "    <tr>\n",
       "      <th>std</th>\n",
       "      <td>1.741096</td>\n",
       "      <td>0.179060</td>\n",
       "      <td>0.194801</td>\n",
       "      <td>1.409928</td>\n",
       "      <td>0.047065</td>\n",
       "      <td>10.460157</td>\n",
       "      <td>32.895324</td>\n",
       "      <td>0.001887</td>\n",
       "      <td>0.154386</td>\n",
       "      <td>0.169507</td>\n",
       "      <td>1.065668</td>\n",
       "      <td>0.807569</td>\n",
       "    </tr>\n",
       "    <tr>\n",
       "      <th>min</th>\n",
       "      <td>4.600000</td>\n",
       "      <td>0.120000</td>\n",
       "      <td>0.000000</td>\n",
       "      <td>0.900000</td>\n",
       "      <td>0.012000</td>\n",
       "      <td>1.000000</td>\n",
       "      <td>6.000000</td>\n",
       "      <td>0.990070</td>\n",
       "      <td>2.740000</td>\n",
       "      <td>0.330000</td>\n",
       "      <td>8.400000</td>\n",
       "      <td>3.000000</td>\n",
       "    </tr>\n",
       "    <tr>\n",
       "      <th>25%</th>\n",
       "      <td>7.100000</td>\n",
       "      <td>0.390000</td>\n",
       "      <td>0.090000</td>\n",
       "      <td>1.900000</td>\n",
       "      <td>0.070000</td>\n",
       "      <td>7.000000</td>\n",
       "      <td>22.000000</td>\n",
       "      <td>0.995600</td>\n",
       "      <td>3.210000</td>\n",
       "      <td>0.550000</td>\n",
       "      <td>9.500000</td>\n",
       "      <td>5.000000</td>\n",
       "    </tr>\n",
       "    <tr>\n",
       "      <th>50%</th>\n",
       "      <td>7.900000</td>\n",
       "      <td>0.520000</td>\n",
       "      <td>0.260000</td>\n",
       "      <td>2.200000</td>\n",
       "      <td>0.079000</td>\n",
       "      <td>14.000000</td>\n",
       "      <td>38.000000</td>\n",
       "      <td>0.996750</td>\n",
       "      <td>3.310000</td>\n",
       "      <td>0.620000</td>\n",
       "      <td>10.200000</td>\n",
       "      <td>6.000000</td>\n",
       "    </tr>\n",
       "    <tr>\n",
       "      <th>75%</th>\n",
       "      <td>9.200000</td>\n",
       "      <td>0.640000</td>\n",
       "      <td>0.420000</td>\n",
       "      <td>2.600000</td>\n",
       "      <td>0.090000</td>\n",
       "      <td>21.000000</td>\n",
       "      <td>62.000000</td>\n",
       "      <td>0.997835</td>\n",
       "      <td>3.400000</td>\n",
       "      <td>0.730000</td>\n",
       "      <td>11.100000</td>\n",
       "      <td>6.000000</td>\n",
       "    </tr>\n",
       "    <tr>\n",
       "      <th>max</th>\n",
       "      <td>15.900000</td>\n",
       "      <td>1.580000</td>\n",
       "      <td>1.000000</td>\n",
       "      <td>15.500000</td>\n",
       "      <td>0.611000</td>\n",
       "      <td>72.000000</td>\n",
       "      <td>289.000000</td>\n",
       "      <td>1.003690</td>\n",
       "      <td>4.010000</td>\n",
       "      <td>2.000000</td>\n",
       "      <td>14.900000</td>\n",
       "      <td>8.000000</td>\n",
       "    </tr>\n",
       "  </tbody>\n",
       "</table>\n",
       "</div>"
      ],
      "text/plain": [
       "       fixed acidity  volatile acidity  citric acid  residual sugar  \\\n",
       "count    1599.000000       1599.000000  1599.000000     1599.000000   \n",
       "mean        8.319637          0.527821     0.270976        2.538806   \n",
       "std         1.741096          0.179060     0.194801        1.409928   \n",
       "min         4.600000          0.120000     0.000000        0.900000   \n",
       "25%         7.100000          0.390000     0.090000        1.900000   \n",
       "50%         7.900000          0.520000     0.260000        2.200000   \n",
       "75%         9.200000          0.640000     0.420000        2.600000   \n",
       "max        15.900000          1.580000     1.000000       15.500000   \n",
       "\n",
       "         chlorides  free sulfur dioxide  total sulfur dioxide      density  \\\n",
       "count  1599.000000          1599.000000           1599.000000  1599.000000   \n",
       "mean      0.087467            15.874922             46.467792     0.996747   \n",
       "std       0.047065            10.460157             32.895324     0.001887   \n",
       "min       0.012000             1.000000              6.000000     0.990070   \n",
       "25%       0.070000             7.000000             22.000000     0.995600   \n",
       "50%       0.079000            14.000000             38.000000     0.996750   \n",
       "75%       0.090000            21.000000             62.000000     0.997835   \n",
       "max       0.611000            72.000000            289.000000     1.003690   \n",
       "\n",
       "                pH    sulphates      alcohol      quality  \n",
       "count  1599.000000  1599.000000  1599.000000  1599.000000  \n",
       "mean      3.311113     0.658149    10.422983     5.636023  \n",
       "std       0.154386     0.169507     1.065668     0.807569  \n",
       "min       2.740000     0.330000     8.400000     3.000000  \n",
       "25%       3.210000     0.550000     9.500000     5.000000  \n",
       "50%       3.310000     0.620000    10.200000     6.000000  \n",
       "75%       3.400000     0.730000    11.100000     6.000000  \n",
       "max       4.010000     2.000000    14.900000     8.000000  "
      ]
     },
     "execution_count": 4,
     "metadata": {},
     "output_type": "execute_result"
    }
   ],
   "source": [
    "dataset_red.describe()"
   ]
  },
  {
   "cell_type": "markdown",
   "id": "0c74ac5c",
   "metadata": {},
   "source": [
    "## Menampilkan Statistik Data"
   ]
  },
  {
   "cell_type": "markdown",
   "id": "9b69a8a4",
   "metadata": {},
   "source": [
    "### Mean\n",
    "#### Mean, digunakan untuk menghitung rata-rata."
   ]
  },
  {
   "cell_type": "code",
   "execution_count": 5,
   "id": "ac844da8",
   "metadata": {},
   "outputs": [
    {
     "name": "stdout",
     "output_type": "stream",
     "text": [
      "mean dari fixed acidity  :  8.319637273295838\n"
     ]
    }
   ],
   "source": [
    "#Menampilkan hasil mean dari salah satu kolom\n",
    "print('mean dari fixed acidity  : ', dataset_red['fixed acidity'].mean())"
   ]
  },
  {
   "cell_type": "code",
   "execution_count": 6,
   "id": "888b67e1",
   "metadata": {},
   "outputs": [
    {
     "name": "stdout",
     "output_type": "stream",
     "text": [
      "fixed acidity            8.319637\n",
      "volatile acidity         0.527821\n",
      "citric acid              0.270976\n",
      "residual sugar           2.538806\n",
      "chlorides                0.087467\n",
      "free sulfur dioxide     15.874922\n",
      "total sulfur dioxide    46.467792\n",
      "density                  0.996747\n",
      "pH                       3.311113\n",
      "sulphates                0.658149\n",
      "alcohol                 10.422983\n",
      "quality                  5.636023\n",
      "dtype: float64\n"
     ]
    }
   ],
   "source": [
    "#Menampilkan mean dari keseluruhan data\n",
    "print(dataset_red.mean())"
   ]
  },
  {
   "cell_type": "markdown",
   "id": "17a80b9a",
   "metadata": {},
   "source": [
    "### Median\n",
    "#### Median, digunakan untuk menemukan nilai tengah dan menentukan bagian atas atau bawah dari kumpulan data, menggunakan function median()."
   ]
  },
  {
   "cell_type": "code",
   "execution_count": 7,
   "id": "c507b16c",
   "metadata": {},
   "outputs": [
    {
     "name": "stdout",
     "output_type": "stream",
     "text": [
      "median dari fixed acidity  :  7.9\n"
     ]
    }
   ],
   "source": [
    "#Menampilkan median salah satu kolom\n",
    "print('median dari fixed acidity  : ', dataset_red['fixed acidity'].median())"
   ]
  },
  {
   "cell_type": "code",
   "execution_count": 8,
   "id": "49efe31f",
   "metadata": {},
   "outputs": [
    {
     "name": "stdout",
     "output_type": "stream",
     "text": [
      "fixed acidity            7.90000\n",
      "volatile acidity         0.52000\n",
      "citric acid              0.26000\n",
      "residual sugar           2.20000\n",
      "chlorides                0.07900\n",
      "free sulfur dioxide     14.00000\n",
      "total sulfur dioxide    38.00000\n",
      "density                  0.99675\n",
      "pH                       3.31000\n",
      "sulphates                0.62000\n",
      "alcohol                 10.20000\n",
      "quality                  6.00000\n",
      "dtype: float64\n"
     ]
    }
   ],
   "source": [
    "#Menampilkan median semua data\n",
    "print(dataset_red.median())"
   ]
  },
  {
   "cell_type": "code",
   "execution_count": 9,
   "id": "653fbba3",
   "metadata": {},
   "outputs": [
    {
     "name": "stdout",
     "output_type": "stream",
     "text": [
      "0       2.705\n",
      "1       2.900\n",
      "2       2.780\n",
      "3       2.530\n",
      "4       2.705\n",
      "        ...  \n",
      "1594    2.725\n",
      "1595    2.860\n",
      "1596    2.860\n",
      "1597    2.785\n",
      "1598    3.495\n",
      "Length: 1599, dtype: float64\n"
     ]
    }
   ],
   "source": [
    "#Jika data median yang ingin dicari adalah per row, dapat menggunakan attribut axis = 1\n",
    "print(dataset_red.median(axis=1))"
   ]
  },
  {
   "cell_type": "markdown",
   "id": "4ae0b443",
   "metadata": {},
   "source": [
    "### Modus\n",
    "#### Mode, digunakan untuk menghitung data yang paling banyak muncul"
   ]
  },
  {
   "cell_type": "code",
   "execution_count": 10,
   "id": "eb747bef",
   "metadata": {},
   "outputs": [
    {
     "name": "stdout",
     "output_type": "stream",
     "text": [
      "mode dari fixed acidity :  0    7.2\n",
      "Name: fixed acidity, dtype: float64\n"
     ]
    }
   ],
   "source": [
    "#Menampilkan modus dari salah satu kolom\n",
    "print('mode dari fixed acidity : ', dataset_red['fixed acidity'].mode())"
   ]
  },
  {
   "cell_type": "code",
   "execution_count": 11,
   "id": "4c522325",
   "metadata": {},
   "outputs": [
    {
     "name": "stdout",
     "output_type": "stream",
     "text": [
      "   fixed acidity  volatile acidity  citric acid  residual sugar  chlorides  \\\n",
      "0            7.2               0.6          0.0             2.0       0.08   \n",
      "\n",
      "   free sulfur dioxide  total sulfur dioxide  density   pH  sulphates  \\\n",
      "0                  6.0                  28.0   0.9972  3.3        0.6   \n",
      "\n",
      "   alcohol  quality  \n",
      "0      9.5        5  \n"
     ]
    }
   ],
   "source": [
    "#Menampilkan modus semua data\n",
    "print(dataset_red.mode())"
   ]
  },
  {
   "cell_type": "markdown",
   "id": "0a7b8315",
   "metadata": {},
   "source": [
    "### Standard Deviation\n",
    "#### digunakan untuk menghitung banyaknya variasi data terhadap mean dari data tersebut."
   ]
  },
  {
   "cell_type": "code",
   "execution_count": 12,
   "id": "c4dcfa21",
   "metadata": {},
   "outputs": [
    {
     "name": "stdout",
     "output_type": "stream",
     "text": [
      "Standard deviation dari fixed acidity : 1.7410963181277006\n"
     ]
    }
   ],
   "source": [
    "#Menampilkan Standard Deviation salah satu kolom\n",
    "print('Standard deviation dari fixed acidity :', dataset_red['fixed acidity'].std())"
   ]
  },
  {
   "cell_type": "code",
   "execution_count": 13,
   "id": "783488e9",
   "metadata": {},
   "outputs": [
    {
     "name": "stdout",
     "output_type": "stream",
     "text": [
      "fixed acidity            1.741096\n",
      "volatile acidity         0.179060\n",
      "citric acid              0.194801\n",
      "residual sugar           1.409928\n",
      "chlorides                0.047065\n",
      "free sulfur dioxide     10.460157\n",
      "total sulfur dioxide    32.895324\n",
      "density                  0.001887\n",
      "pH                       0.154386\n",
      "sulphates                0.169507\n",
      "alcohol                  1.065668\n",
      "quality                  0.807569\n",
      "dtype: float64\n"
     ]
    }
   ],
   "source": [
    "#Menampilkan Standard Deviation semua data\n",
    "print(dataset_red.std())"
   ]
  },
  {
   "cell_type": "markdown",
   "id": "659eb43e",
   "metadata": {},
   "source": [
    "### Variance\n",
    "#### digunakan untuk menghitung penyebaran data. Dan merupakan kuadrat dari standard deviasi, dan menjadi kovarian, atau hubungan dari salah satu variable ke variable lainnya."
   ]
  },
  {
   "cell_type": "code",
   "execution_count": 14,
   "id": "3a409e4d",
   "metadata": {},
   "outputs": [
    {
     "name": "stdout",
     "output_type": "stream",
     "text": [
      "variance dari fixed acidity :  3.031416388997835\n"
     ]
    }
   ],
   "source": [
    "#Menampilkan Variance Salah satu kolom\n",
    "print('variance dari fixed acidity : ', dataset_red['fixed acidity'].var())"
   ]
  },
  {
   "cell_type": "code",
   "execution_count": 15,
   "id": "e80ad27d",
   "metadata": {},
   "outputs": [
    {
     "name": "stdout",
     "output_type": "stream",
     "text": [
      "fixed acidity              3.031416\n",
      "volatile acidity           0.032062\n",
      "citric acid                0.037947\n",
      "residual sugar             1.987897\n",
      "chlorides                  0.002215\n",
      "free sulfur dioxide      109.414884\n",
      "total sulfur dioxide    1082.102373\n",
      "density                    0.000004\n",
      "pH                         0.023835\n",
      "sulphates                  0.028733\n",
      "alcohol                    1.135647\n",
      "quality                    0.652168\n",
      "dtype: float64\n"
     ]
    }
   ],
   "source": [
    "#Menampilkan Variance semua data\n",
    "print(dataset_red.var())"
   ]
  },
  {
   "cell_type": "markdown",
   "id": "6b316bcf",
   "metadata": {},
   "source": [
    "### Quartile\n",
    "#### adalah persentase 25%, 50%, dan 75% yang membagi data menjadi 4 bagian dengan rata."
   ]
  },
  {
   "cell_type": "code",
   "execution_count": 16,
   "id": "d55fc00f",
   "metadata": {},
   "outputs": [
    {
     "name": "stdout",
     "output_type": "stream",
     "text": [
      "Q1 dari fixed acidity :  7.1\n",
      "Q2 dari fixed acidity :  7.9\n",
      "Q2 atau median dari fixed acidity :  7.9\n",
      "Q3 dari fixed acidity :  9.2\n"
     ]
    }
   ],
   "source": [
    "#Menampilkan Q1-Q4\n",
    "print('Q1 dari fixed acidity : ',np.quantile(dataset_red['fixed acidity'], 0.25))\n",
    "print('Q2 dari fixed acidity : ',np.quantile(dataset_red['fixed acidity'], 0.5))\n",
    "print('Q2 atau median dari fixed acidity : ', dataset_red['fixed acidity'].median())\n",
    "print('Q3 dari fixed acidity : ',np.quantile(dataset_red['fixed acidity'], 0.75))"
   ]
  },
  {
   "cell_type": "markdown",
   "id": "1a9f323d",
   "metadata": {},
   "source": [
    "### Interquantile Range(IQR)\n",
    "#### dapat dihitung dengan rumus sederhana Q3 - Q1 ataupun bisa menggunakan library scipy"
   ]
  },
  {
   "cell_type": "code",
   "execution_count": 17,
   "id": "8b9479e8",
   "metadata": {},
   "outputs": [
    {
     "name": "stdout",
     "output_type": "stream",
     "text": [
      "Menggunakan rumus Q3-Q1 :  2.0999999999999996\n",
      "Menggunakan bantuan library scipy.stats 2.0999999999999996\n"
     ]
    }
   ],
   "source": [
    "from scipy.stats import iqr\n",
    "\n",
    "print('Menggunakan rumus Q3-Q1 : '\n",
    "     ,np.quantile(dataset_red['fixed acidity'], 0.75) - np.quantile(dataset_red['fixed acidity'], 0.25))\n",
    "print('Menggunakan bantuan library scipy.stats', iqr(dataset_red['fixed acidity']))"
   ]
  },
  {
   "cell_type": "code",
   "execution_count": 18,
   "id": "7180222f",
   "metadata": {},
   "outputs": [
    {
     "data": {
      "text/html": [
       "<div>\n",
       "<style scoped>\n",
       "    .dataframe tbody tr th:only-of-type {\n",
       "        vertical-align: middle;\n",
       "    }\n",
       "\n",
       "    .dataframe tbody tr th {\n",
       "        vertical-align: top;\n",
       "    }\n",
       "\n",
       "    .dataframe thead th {\n",
       "        text-align: right;\n",
       "    }\n",
       "</style>\n",
       "<table border=\"1\" class=\"dataframe\">\n",
       "  <thead>\n",
       "    <tr style=\"text-align: right;\">\n",
       "      <th></th>\n",
       "      <th>fixed acidity</th>\n",
       "      <th>volatile acidity</th>\n",
       "      <th>citric acid</th>\n",
       "      <th>residual sugar</th>\n",
       "      <th>chlorides</th>\n",
       "      <th>free sulfur dioxide</th>\n",
       "      <th>total sulfur dioxide</th>\n",
       "      <th>density</th>\n",
       "      <th>pH</th>\n",
       "      <th>sulphates</th>\n",
       "      <th>alcohol</th>\n",
       "      <th>quality</th>\n",
       "    </tr>\n",
       "  </thead>\n",
       "  <tbody>\n",
       "    <tr>\n",
       "      <th>count</th>\n",
       "      <td>1599.000000</td>\n",
       "      <td>1599.000000</td>\n",
       "      <td>1599.000000</td>\n",
       "      <td>1599.000000</td>\n",
       "      <td>1599.000000</td>\n",
       "      <td>1599.000000</td>\n",
       "      <td>1599.000000</td>\n",
       "      <td>1599.000000</td>\n",
       "      <td>1599.000000</td>\n",
       "      <td>1599.000000</td>\n",
       "      <td>1599.000000</td>\n",
       "      <td>1599.000000</td>\n",
       "    </tr>\n",
       "    <tr>\n",
       "      <th>mean</th>\n",
       "      <td>8.319637</td>\n",
       "      <td>0.527821</td>\n",
       "      <td>0.270976</td>\n",
       "      <td>2.538806</td>\n",
       "      <td>0.087467</td>\n",
       "      <td>15.874922</td>\n",
       "      <td>46.467792</td>\n",
       "      <td>0.996747</td>\n",
       "      <td>3.311113</td>\n",
       "      <td>0.658149</td>\n",
       "      <td>10.422983</td>\n",
       "      <td>5.636023</td>\n",
       "    </tr>\n",
       "    <tr>\n",
       "      <th>std</th>\n",
       "      <td>1.741096</td>\n",
       "      <td>0.179060</td>\n",
       "      <td>0.194801</td>\n",
       "      <td>1.409928</td>\n",
       "      <td>0.047065</td>\n",
       "      <td>10.460157</td>\n",
       "      <td>32.895324</td>\n",
       "      <td>0.001887</td>\n",
       "      <td>0.154386</td>\n",
       "      <td>0.169507</td>\n",
       "      <td>1.065668</td>\n",
       "      <td>0.807569</td>\n",
       "    </tr>\n",
       "    <tr>\n",
       "      <th>min</th>\n",
       "      <td>4.600000</td>\n",
       "      <td>0.120000</td>\n",
       "      <td>0.000000</td>\n",
       "      <td>0.900000</td>\n",
       "      <td>0.012000</td>\n",
       "      <td>1.000000</td>\n",
       "      <td>6.000000</td>\n",
       "      <td>0.990070</td>\n",
       "      <td>2.740000</td>\n",
       "      <td>0.330000</td>\n",
       "      <td>8.400000</td>\n",
       "      <td>3.000000</td>\n",
       "    </tr>\n",
       "    <tr>\n",
       "      <th>25%</th>\n",
       "      <td>7.100000</td>\n",
       "      <td>0.390000</td>\n",
       "      <td>0.090000</td>\n",
       "      <td>1.900000</td>\n",
       "      <td>0.070000</td>\n",
       "      <td>7.000000</td>\n",
       "      <td>22.000000</td>\n",
       "      <td>0.995600</td>\n",
       "      <td>3.210000</td>\n",
       "      <td>0.550000</td>\n",
       "      <td>9.500000</td>\n",
       "      <td>5.000000</td>\n",
       "    </tr>\n",
       "    <tr>\n",
       "      <th>50%</th>\n",
       "      <td>7.900000</td>\n",
       "      <td>0.520000</td>\n",
       "      <td>0.260000</td>\n",
       "      <td>2.200000</td>\n",
       "      <td>0.079000</td>\n",
       "      <td>14.000000</td>\n",
       "      <td>38.000000</td>\n",
       "      <td>0.996750</td>\n",
       "      <td>3.310000</td>\n",
       "      <td>0.620000</td>\n",
       "      <td>10.200000</td>\n",
       "      <td>6.000000</td>\n",
       "    </tr>\n",
       "    <tr>\n",
       "      <th>75%</th>\n",
       "      <td>9.200000</td>\n",
       "      <td>0.640000</td>\n",
       "      <td>0.420000</td>\n",
       "      <td>2.600000</td>\n",
       "      <td>0.090000</td>\n",
       "      <td>21.000000</td>\n",
       "      <td>62.000000</td>\n",
       "      <td>0.997835</td>\n",
       "      <td>3.400000</td>\n",
       "      <td>0.730000</td>\n",
       "      <td>11.100000</td>\n",
       "      <td>6.000000</td>\n",
       "    </tr>\n",
       "    <tr>\n",
       "      <th>max</th>\n",
       "      <td>15.900000</td>\n",
       "      <td>1.580000</td>\n",
       "      <td>1.000000</td>\n",
       "      <td>15.500000</td>\n",
       "      <td>0.611000</td>\n",
       "      <td>72.000000</td>\n",
       "      <td>289.000000</td>\n",
       "      <td>1.003690</td>\n",
       "      <td>4.010000</td>\n",
       "      <td>2.000000</td>\n",
       "      <td>14.900000</td>\n",
       "      <td>8.000000</td>\n",
       "    </tr>\n",
       "  </tbody>\n",
       "</table>\n",
       "</div>"
      ],
      "text/plain": [
       "       fixed acidity  volatile acidity  citric acid  residual sugar  \\\n",
       "count    1599.000000       1599.000000  1599.000000     1599.000000   \n",
       "mean        8.319637          0.527821     0.270976        2.538806   \n",
       "std         1.741096          0.179060     0.194801        1.409928   \n",
       "min         4.600000          0.120000     0.000000        0.900000   \n",
       "25%         7.100000          0.390000     0.090000        1.900000   \n",
       "50%         7.900000          0.520000     0.260000        2.200000   \n",
       "75%         9.200000          0.640000     0.420000        2.600000   \n",
       "max        15.900000          1.580000     1.000000       15.500000   \n",
       "\n",
       "         chlorides  free sulfur dioxide  total sulfur dioxide      density  \\\n",
       "count  1599.000000          1599.000000           1599.000000  1599.000000   \n",
       "mean      0.087467            15.874922             46.467792     0.996747   \n",
       "std       0.047065            10.460157             32.895324     0.001887   \n",
       "min       0.012000             1.000000              6.000000     0.990070   \n",
       "25%       0.070000             7.000000             22.000000     0.995600   \n",
       "50%       0.079000            14.000000             38.000000     0.996750   \n",
       "75%       0.090000            21.000000             62.000000     0.997835   \n",
       "max       0.611000            72.000000            289.000000     1.003690   \n",
       "\n",
       "                pH    sulphates      alcohol      quality  \n",
       "count  1599.000000  1599.000000  1599.000000  1599.000000  \n",
       "mean      3.311113     0.658149    10.422983     5.636023  \n",
       "std       0.154386     0.169507     1.065668     0.807569  \n",
       "min       2.740000     0.330000     8.400000     3.000000  \n",
       "25%       3.210000     0.550000     9.500000     5.000000  \n",
       "50%       3.310000     0.620000    10.200000     6.000000  \n",
       "75%       3.400000     0.730000    11.100000     6.000000  \n",
       "max       4.010000     2.000000    14.900000     8.000000  "
      ]
     },
     "execution_count": 18,
     "metadata": {},
     "output_type": "execute_result"
    }
   ],
   "source": [
    "dataset_red.describe(include='all')"
   ]
  },
  {
   "cell_type": "code",
   "execution_count": 19,
   "id": "0d048ef1",
   "metadata": {},
   "outputs": [],
   "source": [
    "#install statistic for the first time"
   ]
  },
  {
   "cell_type": "code",
   "execution_count": 20,
   "id": "50aa2b94",
   "metadata": {},
   "outputs": [
    {
     "name": "stdout",
     "output_type": "stream",
     "text": [
      "Mean dari Fixed Acidity :  8.31963727329581\n",
      "Q1 dari Fixed Acidity :  7.9\n",
      "Median dari Fixed Acidity :  7.9\n",
      "Q3 dari Fixed Acidity :  7.9\n",
      "Modus dari Fixed Acidity :  7.2\n",
      "Standard Deviation dari Fixed Acidity :  1.7410963181276955\n",
      "Variance dari Fixed Acidity :  3.031416388997817\n"
     ]
    }
   ],
   "source": [
    "import statistics as st\n",
    "\n",
    "print('Mean dari Fixed Acidity : ', st.mean(dataset_red['fixed acidity']))\n",
    "print('Q1 dari Fixed Acidity : ', st.median_low(dataset_red['fixed acidity']))\n",
    "print('Median dari Fixed Acidity : ', st.median(dataset_red['fixed acidity']))\n",
    "print('Q3 dari Fixed Acidity : ', st.median_high(dataset_red['fixed acidity']))\n",
    "print('Modus dari Fixed Acidity : ', st.mode(dataset_red['fixed acidity']))\n",
    "print('Standard Deviation dari Fixed Acidity : ', st.stdev(dataset_red['fixed acidity']))\n",
    "print('Variance dari Fixed Acidity : ', st.variance(dataset_red['fixed acidity']))"
   ]
  },
  {
   "cell_type": "markdown",
   "id": "e11a0f86",
   "metadata": {},
   "source": [
    "# Challenge"
   ]
  },
  {
   "cell_type": "code",
   "execution_count": 21,
   "id": "1409ff22",
   "metadata": {},
   "outputs": [
    {
     "data": {
      "text/html": [
       "<div>\n",
       "<style scoped>\n",
       "    .dataframe tbody tr th:only-of-type {\n",
       "        vertical-align: middle;\n",
       "    }\n",
       "\n",
       "    .dataframe tbody tr th {\n",
       "        vertical-align: top;\n",
       "    }\n",
       "\n",
       "    .dataframe thead th {\n",
       "        text-align: right;\n",
       "    }\n",
       "</style>\n",
       "<table border=\"1\" class=\"dataframe\">\n",
       "  <thead>\n",
       "    <tr style=\"text-align: right;\">\n",
       "      <th></th>\n",
       "      <th>fixed acidity</th>\n",
       "      <th>volatile acidity</th>\n",
       "      <th>citric acid</th>\n",
       "      <th>residual sugar</th>\n",
       "      <th>chlorides</th>\n",
       "      <th>free sulfur dioxide</th>\n",
       "      <th>total sulfur dioxide</th>\n",
       "      <th>density</th>\n",
       "      <th>pH</th>\n",
       "      <th>sulphates</th>\n",
       "      <th>alcohol</th>\n",
       "      <th>quality</th>\n",
       "    </tr>\n",
       "  </thead>\n",
       "  <tbody>\n",
       "    <tr>\n",
       "      <th>0</th>\n",
       "      <td>7.0</td>\n",
       "      <td>0.27</td>\n",
       "      <td>0.36</td>\n",
       "      <td>20.7</td>\n",
       "      <td>0.045</td>\n",
       "      <td>45.0</td>\n",
       "      <td>170.0</td>\n",
       "      <td>1.0010</td>\n",
       "      <td>3.00</td>\n",
       "      <td>0.45</td>\n",
       "      <td>8.8</td>\n",
       "      <td>6</td>\n",
       "    </tr>\n",
       "    <tr>\n",
       "      <th>1</th>\n",
       "      <td>6.3</td>\n",
       "      <td>0.30</td>\n",
       "      <td>0.34</td>\n",
       "      <td>1.6</td>\n",
       "      <td>0.049</td>\n",
       "      <td>14.0</td>\n",
       "      <td>132.0</td>\n",
       "      <td>0.9940</td>\n",
       "      <td>3.30</td>\n",
       "      <td>0.49</td>\n",
       "      <td>9.5</td>\n",
       "      <td>6</td>\n",
       "    </tr>\n",
       "    <tr>\n",
       "      <th>2</th>\n",
       "      <td>8.1</td>\n",
       "      <td>0.28</td>\n",
       "      <td>0.40</td>\n",
       "      <td>6.9</td>\n",
       "      <td>0.050</td>\n",
       "      <td>30.0</td>\n",
       "      <td>97.0</td>\n",
       "      <td>0.9951</td>\n",
       "      <td>3.26</td>\n",
       "      <td>0.44</td>\n",
       "      <td>10.1</td>\n",
       "      <td>6</td>\n",
       "    </tr>\n",
       "    <tr>\n",
       "      <th>3</th>\n",
       "      <td>7.2</td>\n",
       "      <td>0.23</td>\n",
       "      <td>0.32</td>\n",
       "      <td>8.5</td>\n",
       "      <td>0.058</td>\n",
       "      <td>47.0</td>\n",
       "      <td>186.0</td>\n",
       "      <td>0.9956</td>\n",
       "      <td>3.19</td>\n",
       "      <td>0.40</td>\n",
       "      <td>9.9</td>\n",
       "      <td>6</td>\n",
       "    </tr>\n",
       "    <tr>\n",
       "      <th>4</th>\n",
       "      <td>7.2</td>\n",
       "      <td>0.23</td>\n",
       "      <td>0.32</td>\n",
       "      <td>8.5</td>\n",
       "      <td>0.058</td>\n",
       "      <td>47.0</td>\n",
       "      <td>186.0</td>\n",
       "      <td>0.9956</td>\n",
       "      <td>3.19</td>\n",
       "      <td>0.40</td>\n",
       "      <td>9.9</td>\n",
       "      <td>6</td>\n",
       "    </tr>\n",
       "  </tbody>\n",
       "</table>\n",
       "</div>"
      ],
      "text/plain": [
       "   fixed acidity  volatile acidity  citric acid  residual sugar  chlorides  \\\n",
       "0            7.0              0.27         0.36            20.7      0.045   \n",
       "1            6.3              0.30         0.34             1.6      0.049   \n",
       "2            8.1              0.28         0.40             6.9      0.050   \n",
       "3            7.2              0.23         0.32             8.5      0.058   \n",
       "4            7.2              0.23         0.32             8.5      0.058   \n",
       "\n",
       "   free sulfur dioxide  total sulfur dioxide  density    pH  sulphates  \\\n",
       "0                 45.0                 170.0   1.0010  3.00       0.45   \n",
       "1                 14.0                 132.0   0.9940  3.30       0.49   \n",
       "2                 30.0                  97.0   0.9951  3.26       0.44   \n",
       "3                 47.0                 186.0   0.9956  3.19       0.40   \n",
       "4                 47.0                 186.0   0.9956  3.19       0.40   \n",
       "\n",
       "   alcohol  quality  \n",
       "0      8.8        6  \n",
       "1      9.5        6  \n",
       "2     10.1        6  \n",
       "3      9.9        6  \n",
       "4      9.9        6  "
      ]
     },
     "execution_count": 21,
     "metadata": {},
     "output_type": "execute_result"
    }
   ],
   "source": [
    "#importing whitewine dataset\n",
    "\n",
    "dataset_white = pd.read_csv(r\"D:\\SEMESTER 4\\IS411 Data Modelling\\LAB\\Bahan Modul 6\\winequality-white.csv\")\n",
    "dataset_white.head(5)"
   ]
  },
  {
   "cell_type": "code",
   "execution_count": 22,
   "id": "1b2d09be",
   "metadata": {},
   "outputs": [
    {
     "name": "stdout",
     "output_type": "stream",
     "text": [
      "<class 'pandas.core.frame.DataFrame'>\n",
      "RangeIndex: 4898 entries, 0 to 4897\n",
      "Data columns (total 12 columns):\n",
      " #   Column                Non-Null Count  Dtype  \n",
      "---  ------                --------------  -----  \n",
      " 0   fixed acidity         4898 non-null   float64\n",
      " 1   volatile acidity      4898 non-null   float64\n",
      " 2   citric acid           4898 non-null   float64\n",
      " 3   residual sugar        4898 non-null   float64\n",
      " 4   chlorides             4898 non-null   float64\n",
      " 5   free sulfur dioxide   4898 non-null   float64\n",
      " 6   total sulfur dioxide  4898 non-null   float64\n",
      " 7   density               4898 non-null   float64\n",
      " 8   pH                    4898 non-null   float64\n",
      " 9   sulphates             4898 non-null   float64\n",
      " 10  alcohol               4898 non-null   float64\n",
      " 11  quality               4898 non-null   int64  \n",
      "dtypes: float64(11), int64(1)\n",
      "memory usage: 459.3 KB\n"
     ]
    },
    {
     "data": {
      "text/plain": [
       "(4898, 12)"
      ]
     },
     "execution_count": 22,
     "metadata": {},
     "output_type": "execute_result"
    }
   ],
   "source": [
    "dataset_white.info()\n",
    "dataset_white.shape"
   ]
  },
  {
   "cell_type": "markdown",
   "id": "610da9ca",
   "metadata": {},
   "source": [
    "### Mean"
   ]
  },
  {
   "cell_type": "code",
   "execution_count": 23,
   "id": "5ec8cc20",
   "metadata": {},
   "outputs": [
    {
     "name": "stdout",
     "output_type": "stream",
     "text": [
      "mean dari density  :  0.9940273764801896\n"
     ]
    }
   ],
   "source": [
    "#Menampilkan hasil mean dari salah satu kolom\n",
    "print('mean dari density  : ', dataset_white['density'].mean())"
   ]
  },
  {
   "cell_type": "code",
   "execution_count": 24,
   "id": "9bd98459",
   "metadata": {},
   "outputs": [
    {
     "name": "stdout",
     "output_type": "stream",
     "text": [
      "fixed acidity             6.854788\n",
      "volatile acidity          0.278241\n",
      "citric acid               0.334192\n",
      "residual sugar            6.391415\n",
      "chlorides                 0.045772\n",
      "free sulfur dioxide      35.308085\n",
      "total sulfur dioxide    138.360657\n",
      "density                   0.994027\n",
      "pH                        3.188267\n",
      "sulphates                 0.489847\n",
      "alcohol                  10.514267\n",
      "quality                   5.877909\n",
      "dtype: float64\n"
     ]
    }
   ],
   "source": [
    "#Menampilkan mean dari keseluruhan data\n",
    "print(dataset_white.mean())"
   ]
  },
  {
   "cell_type": "markdown",
   "id": "5dc8d09c",
   "metadata": {},
   "source": [
    "### Median"
   ]
  },
  {
   "cell_type": "code",
   "execution_count": 25,
   "id": "539658e9",
   "metadata": {},
   "outputs": [
    {
     "name": "stdout",
     "output_type": "stream",
     "text": [
      "median dari density  :  0.99374\n"
     ]
    }
   ],
   "source": [
    "#Menampilkan median salah satu kolom\n",
    "print('median dari density  : ', dataset_white['density'].median())"
   ]
  },
  {
   "cell_type": "code",
   "execution_count": 26,
   "id": "1c8960d7",
   "metadata": {},
   "outputs": [
    {
     "name": "stdout",
     "output_type": "stream",
     "text": [
      "fixed acidity             6.80000\n",
      "volatile acidity          0.26000\n",
      "citric acid               0.32000\n",
      "residual sugar            5.20000\n",
      "chlorides                 0.04300\n",
      "free sulfur dioxide      34.00000\n",
      "total sulfur dioxide    134.00000\n",
      "density                   0.99374\n",
      "pH                        3.18000\n",
      "sulphates                 0.47000\n",
      "alcohol                  10.40000\n",
      "quality                   6.00000\n",
      "dtype: float64\n"
     ]
    }
   ],
   "source": [
    "#Menampilkan median semua data\n",
    "print(dataset_white.median())"
   ]
  },
  {
   "cell_type": "code",
   "execution_count": 27,
   "id": "4a33f0d2",
   "metadata": {},
   "outputs": [
    {
     "name": "stdout",
     "output_type": "stream",
     "text": [
      "0       4.500000\n",
      "1       2.450000\n",
      "2       4.630000\n",
      "3       4.595000\n",
      "4       4.595000\n",
      "          ...   \n",
      "4893    2.435000\n",
      "4894    4.075000\n",
      "4895    2.095000\n",
      "4896    2.220000\n",
      "4897    2.124705\n",
      "Length: 4898, dtype: float64\n"
     ]
    }
   ],
   "source": [
    "#Jika data median yang ingin dicari adalah per row, dapat menggunakan attribut axis = 1\n",
    "print(dataset_white.median(axis=1))"
   ]
  },
  {
   "cell_type": "markdown",
   "id": "265149d3",
   "metadata": {},
   "source": [
    "### Modus"
   ]
  },
  {
   "cell_type": "code",
   "execution_count": 28,
   "id": "02199d50",
   "metadata": {},
   "outputs": [
    {
     "name": "stdout",
     "output_type": "stream",
     "text": [
      "mode dari density :  0    0.992\n",
      "Name: density, dtype: float64\n"
     ]
    }
   ],
   "source": [
    "#Menampilkan modus dari salah satu kolom\n",
    "print('mode dari density : ', dataset_white['density'].mode())"
   ]
  },
  {
   "cell_type": "code",
   "execution_count": 29,
   "id": "eabd0e55",
   "metadata": {},
   "outputs": [
    {
     "name": "stdout",
     "output_type": "stream",
     "text": [
      "   fixed acidity  volatile acidity  citric acid  residual sugar  chlorides  \\\n",
      "0            6.8              0.28          0.3             1.2      0.044   \n",
      "\n",
      "   free sulfur dioxide  total sulfur dioxide  density    pH  sulphates  \\\n",
      "0                 29.0                 111.0    0.992  3.14        0.5   \n",
      "\n",
      "   alcohol  quality  \n",
      "0      9.4        6  \n"
     ]
    }
   ],
   "source": [
    "#Menampilkan modus semua data\n",
    "print(dataset_white.mode())"
   ]
  },
  {
   "cell_type": "markdown",
   "id": "fb9be66e",
   "metadata": {},
   "source": [
    "### Standard Deviation"
   ]
  },
  {
   "cell_type": "code",
   "execution_count": 30,
   "id": "666065af",
   "metadata": {},
   "outputs": [
    {
     "name": "stdout",
     "output_type": "stream",
     "text": [
      "Standard deviation dari density : 0.0029909069169369354\n"
     ]
    }
   ],
   "source": [
    "#Menampilkan Standard Deviation salah satu kolom\n",
    "print('Standard deviation dari density :', dataset_white['density'].std())"
   ]
  },
  {
   "cell_type": "code",
   "execution_count": 31,
   "id": "e547712f",
   "metadata": {},
   "outputs": [
    {
     "name": "stdout",
     "output_type": "stream",
     "text": [
      "fixed acidity            0.843868\n",
      "volatile acidity         0.100795\n",
      "citric acid              0.121020\n",
      "residual sugar           5.072058\n",
      "chlorides                0.021848\n",
      "free sulfur dioxide     17.007137\n",
      "total sulfur dioxide    42.498065\n",
      "density                  0.002991\n",
      "pH                       0.151001\n",
      "sulphates                0.114126\n",
      "alcohol                  1.230621\n",
      "quality                  0.885639\n",
      "dtype: float64\n"
     ]
    }
   ],
   "source": [
    "#Menampilkan Standard Deviation semua data\n",
    "print(dataset_white.std())"
   ]
  },
  {
   "cell_type": "markdown",
   "id": "67fa2894",
   "metadata": {},
   "source": [
    "### Variance"
   ]
  },
  {
   "cell_type": "code",
   "execution_count": 32,
   "id": "c2185bce",
   "metadata": {},
   "outputs": [
    {
     "name": "stdout",
     "output_type": "stream",
     "text": [
      "variance dari density :  8.945524185781203e-06\n"
     ]
    }
   ],
   "source": [
    "#Menampilkan Variance Salah satu kolom\n",
    "print('variance dari density : ', dataset_white['density'].var())"
   ]
  },
  {
   "cell_type": "code",
   "execution_count": 33,
   "id": "88d20b9b",
   "metadata": {},
   "outputs": [
    {
     "name": "stdout",
     "output_type": "stream",
     "text": [
      "fixed acidity              0.712114\n",
      "volatile acidity           0.010160\n",
      "citric acid                0.014646\n",
      "residual sugar            25.725770\n",
      "chlorides                  0.000477\n",
      "free sulfur dioxide      289.242720\n",
      "total sulfur dioxide    1806.085491\n",
      "density                    0.000009\n",
      "pH                         0.022801\n",
      "sulphates                  0.013025\n",
      "alcohol                    1.514427\n",
      "quality                    0.784356\n",
      "dtype: float64\n"
     ]
    }
   ],
   "source": [
    "#Menampilkan Variance semua data\n",
    "print(dataset_white.var())"
   ]
  },
  {
   "cell_type": "markdown",
   "id": "d60fd63e",
   "metadata": {},
   "source": [
    "### Quartile"
   ]
  },
  {
   "cell_type": "code",
   "execution_count": 34,
   "id": "aba8114f",
   "metadata": {},
   "outputs": [
    {
     "name": "stdout",
     "output_type": "stream",
     "text": [
      "Q1 dari density :  0.9917225000000001\n",
      "Q2 dari density :  0.99374\n",
      "Q2 atau median dari density :  0.99374\n",
      "Q3 dari density :  0.9961\n"
     ]
    }
   ],
   "source": [
    "#Menampilkan Q1-Q4\n",
    "print('Q1 dari density : ',np.quantile(dataset_white['density'], 0.25))\n",
    "print('Q2 dari density : ',np.quantile(dataset_white['density'], 0.5))\n",
    "print('Q2 atau median dari density : ', dataset_white['density'].median())\n",
    "print('Q3 dari density : ',np.quantile(dataset_white['density'], 0.75))"
   ]
  },
  {
   "cell_type": "markdown",
   "id": "d9f73e4e",
   "metadata": {},
   "source": [
    "### IQR"
   ]
  },
  {
   "cell_type": "code",
   "execution_count": 35,
   "id": "7de9d162",
   "metadata": {},
   "outputs": [
    {
     "name": "stdout",
     "output_type": "stream",
     "text": [
      "Menggunakan rumus Q3-Q1 :  0.004377499999999923\n",
      "Menggunakan bantuan library scipy.stats 0.004377499999999923\n"
     ]
    }
   ],
   "source": [
    "from scipy.stats import iqr\n",
    "\n",
    "print('Menggunakan rumus Q3-Q1 : '\n",
    "     ,np.quantile(dataset_white['density'], 0.75) - np.quantile(dataset_white['density'], 0.25))\n",
    "print('Menggunakan bantuan library scipy.stats', iqr(dataset_white['density']))"
   ]
  },
  {
   "cell_type": "code",
   "execution_count": 36,
   "id": "63955ef2",
   "metadata": {},
   "outputs": [
    {
     "data": {
      "text/html": [
       "<div>\n",
       "<style scoped>\n",
       "    .dataframe tbody tr th:only-of-type {\n",
       "        vertical-align: middle;\n",
       "    }\n",
       "\n",
       "    .dataframe tbody tr th {\n",
       "        vertical-align: top;\n",
       "    }\n",
       "\n",
       "    .dataframe thead th {\n",
       "        text-align: right;\n",
       "    }\n",
       "</style>\n",
       "<table border=\"1\" class=\"dataframe\">\n",
       "  <thead>\n",
       "    <tr style=\"text-align: right;\">\n",
       "      <th></th>\n",
       "      <th>fixed acidity</th>\n",
       "      <th>volatile acidity</th>\n",
       "      <th>citric acid</th>\n",
       "      <th>residual sugar</th>\n",
       "      <th>chlorides</th>\n",
       "      <th>free sulfur dioxide</th>\n",
       "      <th>total sulfur dioxide</th>\n",
       "      <th>density</th>\n",
       "      <th>pH</th>\n",
       "      <th>sulphates</th>\n",
       "      <th>alcohol</th>\n",
       "      <th>quality</th>\n",
       "    </tr>\n",
       "  </thead>\n",
       "  <tbody>\n",
       "    <tr>\n",
       "      <th>count</th>\n",
       "      <td>4898.000000</td>\n",
       "      <td>4898.000000</td>\n",
       "      <td>4898.000000</td>\n",
       "      <td>4898.000000</td>\n",
       "      <td>4898.000000</td>\n",
       "      <td>4898.000000</td>\n",
       "      <td>4898.000000</td>\n",
       "      <td>4898.000000</td>\n",
       "      <td>4898.000000</td>\n",
       "      <td>4898.000000</td>\n",
       "      <td>4898.000000</td>\n",
       "      <td>4898.000000</td>\n",
       "    </tr>\n",
       "    <tr>\n",
       "      <th>mean</th>\n",
       "      <td>6.854788</td>\n",
       "      <td>0.278241</td>\n",
       "      <td>0.334192</td>\n",
       "      <td>6.391415</td>\n",
       "      <td>0.045772</td>\n",
       "      <td>35.308085</td>\n",
       "      <td>138.360657</td>\n",
       "      <td>0.994027</td>\n",
       "      <td>3.188267</td>\n",
       "      <td>0.489847</td>\n",
       "      <td>10.514267</td>\n",
       "      <td>5.877909</td>\n",
       "    </tr>\n",
       "    <tr>\n",
       "      <th>std</th>\n",
       "      <td>0.843868</td>\n",
       "      <td>0.100795</td>\n",
       "      <td>0.121020</td>\n",
       "      <td>5.072058</td>\n",
       "      <td>0.021848</td>\n",
       "      <td>17.007137</td>\n",
       "      <td>42.498065</td>\n",
       "      <td>0.002991</td>\n",
       "      <td>0.151001</td>\n",
       "      <td>0.114126</td>\n",
       "      <td>1.230621</td>\n",
       "      <td>0.885639</td>\n",
       "    </tr>\n",
       "    <tr>\n",
       "      <th>min</th>\n",
       "      <td>3.800000</td>\n",
       "      <td>0.080000</td>\n",
       "      <td>0.000000</td>\n",
       "      <td>0.600000</td>\n",
       "      <td>0.009000</td>\n",
       "      <td>2.000000</td>\n",
       "      <td>9.000000</td>\n",
       "      <td>0.987110</td>\n",
       "      <td>2.720000</td>\n",
       "      <td>0.220000</td>\n",
       "      <td>8.000000</td>\n",
       "      <td>3.000000</td>\n",
       "    </tr>\n",
       "    <tr>\n",
       "      <th>25%</th>\n",
       "      <td>6.300000</td>\n",
       "      <td>0.210000</td>\n",
       "      <td>0.270000</td>\n",
       "      <td>1.700000</td>\n",
       "      <td>0.036000</td>\n",
       "      <td>23.000000</td>\n",
       "      <td>108.000000</td>\n",
       "      <td>0.991723</td>\n",
       "      <td>3.090000</td>\n",
       "      <td>0.410000</td>\n",
       "      <td>9.500000</td>\n",
       "      <td>5.000000</td>\n",
       "    </tr>\n",
       "    <tr>\n",
       "      <th>50%</th>\n",
       "      <td>6.800000</td>\n",
       "      <td>0.260000</td>\n",
       "      <td>0.320000</td>\n",
       "      <td>5.200000</td>\n",
       "      <td>0.043000</td>\n",
       "      <td>34.000000</td>\n",
       "      <td>134.000000</td>\n",
       "      <td>0.993740</td>\n",
       "      <td>3.180000</td>\n",
       "      <td>0.470000</td>\n",
       "      <td>10.400000</td>\n",
       "      <td>6.000000</td>\n",
       "    </tr>\n",
       "    <tr>\n",
       "      <th>75%</th>\n",
       "      <td>7.300000</td>\n",
       "      <td>0.320000</td>\n",
       "      <td>0.390000</td>\n",
       "      <td>9.900000</td>\n",
       "      <td>0.050000</td>\n",
       "      <td>46.000000</td>\n",
       "      <td>167.000000</td>\n",
       "      <td>0.996100</td>\n",
       "      <td>3.280000</td>\n",
       "      <td>0.550000</td>\n",
       "      <td>11.400000</td>\n",
       "      <td>6.000000</td>\n",
       "    </tr>\n",
       "    <tr>\n",
       "      <th>max</th>\n",
       "      <td>14.200000</td>\n",
       "      <td>1.100000</td>\n",
       "      <td>1.660000</td>\n",
       "      <td>65.800000</td>\n",
       "      <td>0.346000</td>\n",
       "      <td>289.000000</td>\n",
       "      <td>440.000000</td>\n",
       "      <td>1.038980</td>\n",
       "      <td>3.820000</td>\n",
       "      <td>1.080000</td>\n",
       "      <td>14.200000</td>\n",
       "      <td>9.000000</td>\n",
       "    </tr>\n",
       "  </tbody>\n",
       "</table>\n",
       "</div>"
      ],
      "text/plain": [
       "       fixed acidity  volatile acidity  citric acid  residual sugar  \\\n",
       "count    4898.000000       4898.000000  4898.000000     4898.000000   \n",
       "mean        6.854788          0.278241     0.334192        6.391415   \n",
       "std         0.843868          0.100795     0.121020        5.072058   \n",
       "min         3.800000          0.080000     0.000000        0.600000   \n",
       "25%         6.300000          0.210000     0.270000        1.700000   \n",
       "50%         6.800000          0.260000     0.320000        5.200000   \n",
       "75%         7.300000          0.320000     0.390000        9.900000   \n",
       "max        14.200000          1.100000     1.660000       65.800000   \n",
       "\n",
       "         chlorides  free sulfur dioxide  total sulfur dioxide      density  \\\n",
       "count  4898.000000          4898.000000           4898.000000  4898.000000   \n",
       "mean      0.045772            35.308085            138.360657     0.994027   \n",
       "std       0.021848            17.007137             42.498065     0.002991   \n",
       "min       0.009000             2.000000              9.000000     0.987110   \n",
       "25%       0.036000            23.000000            108.000000     0.991723   \n",
       "50%       0.043000            34.000000            134.000000     0.993740   \n",
       "75%       0.050000            46.000000            167.000000     0.996100   \n",
       "max       0.346000           289.000000            440.000000     1.038980   \n",
       "\n",
       "                pH    sulphates      alcohol      quality  \n",
       "count  4898.000000  4898.000000  4898.000000  4898.000000  \n",
       "mean      3.188267     0.489847    10.514267     5.877909  \n",
       "std       0.151001     0.114126     1.230621     0.885639  \n",
       "min       2.720000     0.220000     8.000000     3.000000  \n",
       "25%       3.090000     0.410000     9.500000     5.000000  \n",
       "50%       3.180000     0.470000    10.400000     6.000000  \n",
       "75%       3.280000     0.550000    11.400000     6.000000  \n",
       "max       3.820000     1.080000    14.200000     9.000000  "
      ]
     },
     "execution_count": 36,
     "metadata": {},
     "output_type": "execute_result"
    }
   ],
   "source": [
    "dataset_white.describe(percentiles=None, include=None)"
   ]
  },
  {
   "cell_type": "code",
   "execution_count": 37,
   "id": "557e9e52",
   "metadata": {},
   "outputs": [
    {
     "name": "stdout",
     "output_type": "stream",
     "text": [
      "Mean dari Density :  0.994027376480196\n",
      "Q1 dari Density :  0.99374\n",
      "Median dari Density :  0.99374\n",
      "Q3 dari Density :  0.99374\n",
      "Modus dari Density :  0.992\n",
      "Standard Deviation dari Density :  0.0029909069169369337\n",
      "Variance dari Density :  8.945524185781195e-06\n"
     ]
    }
   ],
   "source": [
    "import statistics as st\n",
    "\n",
    "print('Mean dari Density : ', st.mean(dataset_white['density']))\n",
    "print('Q1 dari Density : ', st.median_low(dataset_white['density']))\n",
    "print('Median dari Density : ', st.median(dataset_white['density']))\n",
    "print('Q3 dari Density : ', st.median_high(dataset_white['density']))\n",
    "print('Modus dari Density : ', st.mode(dataset_white['density']))\n",
    "print('Standard Deviation dari Density : ', st.stdev(dataset_white['density']))\n",
    "print('Variance dari Density : ', st.variance(dataset_white['density']))"
   ]
  },
  {
   "cell_type": "code",
   "execution_count": 38,
   "id": "8a828455",
   "metadata": {},
   "outputs": [
    {
     "name": "stderr",
     "output_type": "stream",
     "text": [
      "[NbConvertApp] Converting notebook ./00000054804_Christopher Darren_Week6.ipynb to html\n",
      "[NbConvertApp] Writing 662117 bytes to 00000054804_Christopher Darren_Week6.html\n"
     ]
    }
   ],
   "source": [
    "!jupyter nbconvert --to html \"./00000054804_Christopher Darren_Week6.ipynb\" --output-dir=\"./\""
   ]
  },
  {
   "cell_type": "code",
   "execution_count": null,
   "id": "cfc64149",
   "metadata": {},
   "outputs": [],
   "source": []
  }
 ],
 "metadata": {
  "kernelspec": {
   "display_name": "Python 3 (ipykernel)",
   "language": "python",
   "name": "python3"
  },
  "language_info": {
   "codemirror_mode": {
    "name": "ipython",
    "version": 3
   },
   "file_extension": ".py",
   "mimetype": "text/x-python",
   "name": "python",
   "nbconvert_exporter": "python",
   "pygments_lexer": "ipython3",
   "version": "3.9.12"
  }
 },
 "nbformat": 4,
 "nbformat_minor": 5
}
